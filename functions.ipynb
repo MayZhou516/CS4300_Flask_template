{
 "cells": [
  {
   "cell_type": "code",
   "execution_count": 1,
   "metadata": {},
   "outputs": [
    {
     "name": "stdout",
     "output_type": "stream",
     "text": [
      "Requirement already satisfied: spacy in /usr/local/lib/python2.7/site-packages\n",
      "Requirement already satisfied: dill<0.3,>=0.2 in /usr/local/lib/python2.7/site-packages (from spacy)\n",
      "Requirement already satisfied: numpy>=1.7 in /usr/local/lib/python2.7/site-packages (from spacy)\n",
      "Requirement already satisfied: murmurhash<0.29,>=0.28 in /usr/local/lib/python2.7/site-packages (from spacy)\n",
      "Requirement already satisfied: preshed<2.0.0,>=1.0.0 in /usr/local/lib/python2.7/site-packages (from spacy)\n",
      "Requirement already satisfied: pathlib in /usr/local/lib/python2.7/site-packages (from spacy)\n",
      "Requirement already satisfied: thinc<6.11.0,>=6.10.1 in /usr/local/lib/python2.7/site-packages (from spacy)\n",
      "Requirement already satisfied: cymem<1.32,>=1.30 in /usr/local/lib/python2.7/site-packages (from spacy)\n",
      "Requirement already satisfied: regex==2017.4.5 in /usr/local/lib/python2.7/site-packages (from spacy)\n",
      "Requirement already satisfied: ujson>=1.35 in /usr/local/lib/python2.7/site-packages (from spacy)\n",
      "Requirement already satisfied: plac<1.0.0,>=0.9.6 in /usr/local/lib/python2.7/site-packages (from spacy)\n",
      "Requirement already satisfied: cytoolz<0.9,>=0.8 in /usr/local/lib/python2.7/site-packages (from thinc<6.11.0,>=6.10.1->spacy)\n",
      "Requirement already satisfied: wrapt in /usr/local/lib/python2.7/site-packages (from thinc<6.11.0,>=6.10.1->spacy)\n",
      "Requirement already satisfied: six<2.0.0,>=1.10.0 in /usr/local/lib/python2.7/site-packages (from thinc<6.11.0,>=6.10.1->spacy)\n",
      "Requirement already satisfied: tqdm<5.0.0,>=4.10.0 in /usr/local/lib/python2.7/site-packages (from thinc<6.11.0,>=6.10.1->spacy)\n",
      "Requirement already satisfied: msgpack-python in /usr/local/lib/python2.7/site-packages (from thinc<6.11.0,>=6.10.1->spacy)\n",
      "Requirement already satisfied: msgpack-numpy==0.4.1 in /usr/local/lib/python2.7/site-packages (from thinc<6.11.0,>=6.10.1->spacy)\n",
      "Requirement already satisfied: termcolor in /usr/local/lib/python2.7/site-packages (from thinc<6.11.0,>=6.10.1->spacy)\n",
      "Requirement already satisfied: toolz>=0.8.0 in /usr/local/lib/python2.7/site-packages (from cytoolz<0.9,>=0.8->thinc<6.11.0,>=6.10.1->spacy)\n",
      "\u001b[33mYou are using pip version 9.0.3, however version 10.0.1 is available.\n",
      "You should consider upgrading via the 'pip install --upgrade pip' command.\u001b[0m\n",
      "Requirement already satisfied: nltk in /usr/local/lib/python2.7/site-packages\n",
      "Requirement already satisfied: six in /usr/local/lib/python2.7/site-packages (from nltk)\n",
      "\u001b[33mYou are using pip version 9.0.3, however version 10.0.1 is available.\n",
      "You should consider upgrading via the 'pip install --upgrade pip' command.\u001b[0m\n"
     ]
    }
   ],
   "source": [
    "import sys\n",
    "!{sys.executable} -m pip install spacy\n",
    "!{sys.executable} -m pip install nltk"
   ]
  },
  {
   "cell_type": "code",
   "execution_count": 2,
   "metadata": {},
   "outputs": [
    {
     "name": "stdout",
     "output_type": "stream",
     "text": [
      "[nltk_data] Downloading package stopwords to /Users/Pegah/nltk_data...\n",
      "[nltk_data]   Package stopwords is already up-to-date!\n"
     ]
    }
   ],
   "source": [
    "# the imports used in A2\n",
    "import re\n",
    "# import json\n",
    "from glob import glob\n",
    "import os\n",
    "from io import StringIO\n",
    "from itertools import groupby\n",
    "import pickle\n",
    "\n",
    "import numpy as np\n",
    "# import bs4\n",
    "# %matplotlib inline\n",
    "# import matplotlib.pyplot as plt\n",
    "# Imports that might help with various functionality\n",
    "import functools\n",
    "import operator\n",
    "\n",
    "# Additional imports from A3\n",
    "from __future__ import print_function\n",
    "import math\n",
    "from collections import defaultdict\n",
    "# from nltk.tokenize import TreebankWordTokenizer\n",
    "# import Levenshtein  # package python-Levenshtein\n",
    "\n",
    "# Additional imports from A5\n",
    "import nltk\n",
    "# nltk.download()\n",
    "nltk.download('stopwords')\n",
    "from nltk.corpus import stopwords\n",
    "from nltk.tokenize import word_tokenize\n",
    "\n",
    "from sklearn.metrics.pairwise import cosine_similarity\n",
    "import numpy as np\n",
    "import cPickle"
   ]
  },
  {
   "cell_type": "markdown",
   "metadata": {},
   "source": [
    "### Do not run these 2 blocks -- Pickling"
   ]
  },
  {
   "cell_type": "code",
   "execution_count": 3,
   "metadata": {},
   "outputs": [],
   "source": [
    "# SPACY package\n",
    "import spacy\n",
    "# nlp = spacy.load('en')\n",
    "nlp = spacy.load('en_core_web_md')"
   ]
  },
  {
   "cell_type": "code",
   "execution_count": 4,
   "metadata": {},
   "outputs": [],
   "source": [
    "import pickle\n",
    "with open(\"nlp.pickle\", \"wb+\") as f:\n",
    "    pickle.dump(nlp, f)"
   ]
  },
  {
   "cell_type": "markdown",
   "metadata": {},
   "source": [
    "### Run this instead"
   ]
  },
  {
   "cell_type": "code",
   "execution_count": 5,
   "metadata": {},
   "outputs": [],
   "source": [
    "pkl_nlp = open('nlp.pickle', 'rb')\n",
    "nlp = pickle.load(pkl_nlp)"
   ]
  },
  {
   "cell_type": "markdown",
   "metadata": {},
   "source": [
    "# Import Dataset"
   ]
  },
  {
   "cell_type": "code",
   "execution_count": 6,
   "metadata": {},
   "outputs": [
    {
     "name": "stdout",
     "output_type": "stream",
     "text": [
      "Each woman's entry is a dictionary with the following keys...\n",
      "[u'views', u'name', u'summary']\n"
     ]
    }
   ],
   "source": [
    "import json\n",
    "with open(\"data.json\", \"r\") as f:\n",
    "    women_summaries = json.load(f)\n",
    "\n",
    "print(\"Each woman's entry is a dictionary with the following keys...\")\n",
    "print(women_summaries[0].keys())"
   ]
  },
  {
   "cell_type": "code",
   "execution_count": 7,
   "metadata": {},
   "outputs": [],
   "source": [
    "# REMOVED FROM SPACY VERSION\n",
    "# creates a list of women to keep as a global variable\n",
    "women_names = list()\n",
    "for i in range(len(women_summaries)):\n",
    "    name = women_summaries[i]['name']\n",
    "    end_index = name.find('(')\n",
    "    if end_index != -1 and name[: (end_index-1)] not in women_names :\n",
    "        women_names.append(name[: (end_index-1)])\n",
    "    elif end_index == -1 and name not in women_names :\n",
    "        women_names.append(name)\n",
    "        \n",
    "# print(women_names)\n",
    "# women_names is a list of the names of women in order of the JSON file"
   ]
  },
  {
   "cell_type": "markdown",
   "metadata": {},
   "source": [
    "# Deduplicate"
   ]
  },
  {
   "cell_type": "code",
   "execution_count": 9,
   "metadata": {},
   "outputs": [],
   "source": [
    "check_names = []\n",
    "deduped_women = list(women_summaries)\n",
    "for woman in deduped_women:\n",
    "    if woman['name'] not in check_names:\n",
    "        check_names.append(woman['name'])\n",
    "    else:\n",
    "        deduped_women.remove(woman)\n",
    "import pickle\n",
    "pickle.dump(deduped_women, open( \"deduped_women.pickle\", \"wb\" ), protocol=2)"
   ]
  },
  {
   "cell_type": "markdown",
   "metadata": {},
   "source": [
    "# Spacy Dictionary\n",
    "For building token dictionary for W2W matrix"
   ]
  },
  {
   "cell_type": "code",
   "execution_count": 10,
   "metadata": {},
   "outputs": [],
   "source": [
    "from __future__ import unicode_literals"
   ]
  },
  {
   "cell_type": "code",
   "execution_count": 11,
   "metadata": {},
   "outputs": [],
   "source": [
    "# Builds a dictionary that maps woman to the list of tokens associated with her\n",
    "# {'woman1' : ['token1', 'token2', ... 'tokenn']}\n",
    "def build_spacy_token_dictionary(input_summaries, input_women_names):\n",
    "    # Builds a dictionary that maps each woman to their tokenized words (yes we've already done this but we want the spacy version)\n",
    "    women_token_dictionary = dict()\n",
    "    \n",
    "    for i in range(len(input_women_names)):\n",
    "        name = input_women_names[i]\n",
    "        summary = input_summaries[i]['summary']\n",
    "    \n",
    "        index_was = summary.find('was ')\n",
    "        index_is = summary.find('is ')\n",
    "        index_currently = summary.find('currently ')\n",
    "        if (index_was == -1 and index_is == -1):\n",
    "            summary2 = summary[index_currently:]\n",
    "        elif (index_was == -1 and index_currently == -1):\n",
    "            summary2 = summary[index_is:]\n",
    "        elif (index_is == -1 and index_currently == -1):\n",
    "            summary2 = summary[index_was:]\n",
    "        else :\n",
    "            index_min = min(index_is, index_was)\n",
    "            summary2 = summary[index_min:]\n",
    "            \n",
    "        # lowercase long string of summary\n",
    "        summary_lower = summary2.lower()\n",
    "        # doc object type\n",
    "        summary_nlp = nlp(summary_lower)\n",
    "        # type list\n",
    "        summary_list = [token.text for token in summary_nlp]\n",
    "        # type list, but without stop words\n",
    "        summary_token_filtered = [w for w in summary_list if w not in stopwords.words('english')]\n",
    "        \n",
    "        # convert to a string separated by spaces\n",
    "        summary_str = \" \".join(summary_token_filtered) \n",
    "        summary_nlp = nlp(summary_str)\n",
    "        women_token_dictionary[name] = summary_nlp\n",
    "    \n",
    "#     print(women_token_dictionary)\n",
    "    return women_token_dictionary"
   ]
  },
  {
   "cell_type": "code",
   "execution_count": 12,
   "metadata": {},
   "outputs": [],
   "source": [
    "# COMMENTED OUT BECAUSE TOKENIZER DOES THIS\n",
    "women_token_dictionary = build_spacy_token_dictionary(women_summaries, women_names)\n",
    "# # print(women_token_dictionary)"
   ]
  },
  {
   "cell_type": "markdown",
   "metadata": {},
   "source": [
    "# TF-IDF Vectorizer\n",
    "#### Includes pickling the vectorizer and the TF-IDF matrix"
   ]
  },
  {
   "cell_type": "code",
   "execution_count": 13,
   "metadata": {},
   "outputs": [],
   "source": [
    "from sklearn.feature_extraction.text import TfidfVectorizer\n",
    "vectorizer = TfidfVectorizer(stop_words=\"english\", max_df = 0.95)\n",
    "matx = vectorizer.fit_transform(map(lambda x: x[\"summary\"], deduped_women))\n",
    "\n",
    "import pickle\n",
    "with open(\"myvectorizer.pickle\", \"wb+\") as f:\n",
    "    pickle.dump(vectorizer, f)\n",
    "    pickle.dump(matx, f)"
   ]
  },
  {
   "cell_type": "markdown",
   "metadata": {},
   "source": [
    "# Spacy Similarity Matrix"
   ]
  },
  {
   "cell_type": "code",
   "execution_count": 14,
   "metadata": {},
   "outputs": [],
   "source": [
    "def build_sim_matrix(input_token_dictionary, input_len_names, input_women_names):\n",
    "    # Builds matrix using spacy that stores each woman's cosine similarity to each other\n",
    "    \n",
    "    sim_matrix = np.zeros(shape = (input_len_names, input_len_names))\n",
    "    \n",
    "    for woman1 in input_token_dictionary:\n",
    "        for woman2 in input_token_dictionary:\n",
    "            woman1_index = input_women_names.index(woman1)\n",
    "            woman2_index = input_women_names.index(woman2)\n",
    "#             print(input_token_dictionary[woman1])\n",
    "#             print(input_token_dictionary[woman2])\n",
    "            sim_matrix[woman1_index][woman2_index] = input_token_dictionary[woman1].similarity(input_token_dictionary[woman2])\n",
    "    np.fill_diagonal(sim_matrix, 0)\n",
    "    \n",
    "    return sim_matrix\n",
    "        "
   ]
  },
  {
   "cell_type": "code",
   "execution_count": 15,
   "metadata": {},
   "outputs": [],
   "source": [
    "women2women_cosine_sim_matrix = build_sim_matrix(women_token_dictionary, len(women_names), women_names)\n"
   ]
  },
  {
   "cell_type": "code",
   "execution_count": 16,
   "metadata": {},
   "outputs": [],
   "source": [
    "import operator\n",
    "\n",
    "# Code taken from A5\n",
    "def get_ranked_women(input_woman, input_sim_matrix, input_women_names) :\n",
    "#     print(input_sim_matrix)\n",
    "    '''Return sorted rankings (most to least similar) of women as \n",
    "        a list of two-element tuples, where the first element is the \n",
    "        woman's name and the second element is the similarity score\n",
    "    '''\n",
    "    \n",
    "    # Get index from woman's name\n",
    "    idx = input_women_names.index(input_woman)\n",
    "    \n",
    "    # Get list of similarity scores for woman\n",
    "    score_lst = input_sim_matrix[idx]\n",
    "    women_score_lst = [(input_women_names[index], score) for index, score in enumerate(score_lst)]\n",
    "    \n",
    "    # Do not account for woman herself in ranking\n",
    "    women_score_lst = women_score_lst[:idx] + women_score_lst[idx+1:]\n",
    "    \n",
    "    # Sort rankings by score (most similar to least similar)\n",
    "    women_score_lst = sorted(women_score_lst, key=lambda x: -x[1])\n",
    "    \n",
    "    # Only returning top 5!\n",
    "    return women_score_lst[:5]"
   ]
  },
  {
   "cell_type": "code",
   "execution_count": 17,
   "metadata": {},
   "outputs": [],
   "source": [
    "# Builds a 'top 5 most similar' list of woman for every woman\n",
    "def create_top_5_dict_women(input_sim_mat, num_women, input_women_names):\n",
    "    women_top5 = {}\n",
    "    \n",
    "    # Loop through each woman\n",
    "    for woman in range(num_women):\n",
    "        similarity_list = get_ranked_women(input_women_names[woman], input_sim_mat, input_women_names)\n",
    "        similarity_list = [x[0] for x in similarity_list]\n",
    "        women_top5[input_women_names[woman]] = similarity_list\n",
    "        \n",
    "    return women_top5\n",
    "            "
   ]
  },
  {
   "cell_type": "code",
   "execution_count": 18,
   "metadata": {},
   "outputs": [],
   "source": [
    "top5_dict_women2women = create_top_5_dict_women(women2women_cosine_sim_matrix, len(women_names), women_names)"
   ]
  },
  {
   "cell_type": "code",
   "execution_count": 19,
   "metadata": {},
   "outputs": [
    {
     "data": {
      "text/plain": [
       "[u'Olabisi Ugbebor',\n",
       " u'Anne Greenbaum',\n",
       " u'H\\xe9l\\xe8ne Esnault',\n",
       " u'Anu\\u0161ka Ferligoj',\n",
       " u'Marina Ratner']"
      ]
     },
     "execution_count": 19,
     "metadata": {},
     "output_type": "execute_result"
    }
   ],
   "source": [
    "top5_dict_women2women['Rachel Kuske']"
   ]
  },
  {
   "cell_type": "code",
   "execution_count": 20,
   "metadata": {},
   "outputs": [],
   "source": [
    "pickle.dump(top5_dict_women2women, open( \"top5_dict_women2women.pickle\", \"wb\" ), protocol=2)"
   ]
  },
  {
   "cell_type": "markdown",
   "metadata": {},
   "source": [
    "# Query output for Cossim"
   ]
  },
  {
   "cell_type": "code",
   "execution_count": 21,
   "metadata": {},
   "outputs": [],
   "source": [
    "from sklearn.metrics.pairwise import cosine_similarity\n",
    "import numpy as np\n",
    "import pickle\n",
    "\n",
    "# Load from the pickle\n",
    "pkl_file = open('myvectorizer.pickle', 'rb')\n",
    "vectorizer = pickle.load(pkl_file)\n",
    "matx = pickle.load(pkl_file)\n",
    "\n",
    "def cossim_scores(vectorizer, matx, query, data_dict):\n",
    "    q_vec = vectorizer.transform([query])\n",
    "    sim_doc_scores = cosine_similarity(q_vec, matx)\n",
    "    \n",
    "    \n",
    "    '''\n",
    "    This next block is commented out because we are changing this function to return cosine sim scores\n",
    "    '''\n",
    "#     sim_docs = np.argsort(sim_doc_scores.flatten())[::-1]\n",
    "#     return_docs = []\n",
    "#     for hit in sim_docs:\n",
    "#         if sim_doc_scores[0][hit] > 0:\n",
    "# #             print(sim_doc_scores[0][hit])\n",
    "#             return_docs.append(data_dict[hit])\n",
    "#     if len(return_docs)>30:\n",
    "#         return_docs = return_docs[:30]\n",
    "\n",
    "    '''\n",
    "    Alright! back to business\n",
    "    '''\n",
    "    return sim_doc_scores[0]"
   ]
  },
  {
   "cell_type": "code",
   "execution_count": 22,
   "metadata": {},
   "outputs": [
    {
     "data": {
      "text/plain": [
       "array([0.        , 0.05674745, 0.        , ..., 0.        , 0.        ,\n",
       "       0.        ])"
      ]
     },
     "execution_count": 22,
     "metadata": {},
     "output_type": "execute_result"
    }
   ],
   "source": [
    "cossim_scores(vectorizer, matx, u\"is a french biologist\", deduped_women)"
   ]
  },
  {
   "cell_type": "markdown",
   "metadata": {},
   "source": [
    "# Making our Spacy Matrix"
   ]
  },
  {
   "cell_type": "markdown",
   "metadata": {},
   "source": [
    "## <span style=\"color:red\">Important!</span>\n",
    "The next block takes a while to run, but it's been pickled! Don't run the next 2 code blocks. Instead, just compile spacy_sim and run the block after it."
   ]
  },
  {
   "cell_type": "code",
   "execution_count": 21,
   "metadata": {},
   "outputs": [],
   "source": [
    "# DO NOT RUN!!\n",
    "spacy_array = np.zeros((len(deduped_women),300))\n",
    "for index, woman in enumerate(deduped_women):\n",
    "#     print(index)\n",
    "    wom_vec = nlp(woman['summary']).vector\n",
    "    if len(wom_vec) != 300:\n",
    "        wom_vec = np.zeros(300)\n",
    "    spacy_array[index] = wom_vec"
   ]
  },
  {
   "cell_type": "code",
   "execution_count": 22,
   "metadata": {},
   "outputs": [],
   "source": [
    "# pickle here\n",
    "# DON'T RUN THIS EITHER!\n",
    "with open(\"spacyarray.pickle\", \"wb+\") as f:\n",
    "    pickle.dump(spacy_array, f)"
   ]
  },
  {
   "cell_type": "code",
   "execution_count": 24,
   "metadata": {},
   "outputs": [],
   "source": [
    "def spacysim_scores(spacy_mat, query, data_dict):\n",
    "    '''\n",
    "    spacy_mat: numpy array of documents by spacy vectors\n",
    "    \n",
    "    query: query string\n",
    "    \n",
    "    RETURNS\n",
    "    \n",
    "    '''\n",
    "    q = nlp(query)\n",
    "    sim_scores = np.dot(spacy_mat, q.vector)/((np.linalg.norm(spacy_mat)*np.linalg.norm(q.vector))+1)\n",
    "    \n",
    "    '''\n",
    "    commenting out this next part because we are changing this to return sim scores\n",
    "    '''\n",
    "#     sim_docs = np.argsort(sim_scores)[::-1]\n",
    "#     return_docs = []\n",
    "#     for hit in sim_docs[0:30]:\n",
    "#         return_docs.append(data_dict[hit])\n",
    "\n",
    "    return sim_scores"
   ]
  },
  {
   "cell_type": "code",
   "execution_count": 25,
   "metadata": {},
   "outputs": [
    {
     "data": {
      "text/plain": [
       "array([0.01169806, 0.00993859, 0.01128555, ..., 0.00980211, 0.01077054,\n",
       "       0.01090889])"
      ]
     },
     "execution_count": 25,
     "metadata": {},
     "output_type": "execute_result"
    }
   ],
   "source": [
    "pkl_file_spacy = open('spacyarray.pickle', 'rb')\n",
    "spacy_array = pickle.load(pkl_file_spacy)\n",
    "\n",
    "spacysim_scores(spacy_array, u\"won the nobel prize\", deduped_women)"
   ]
  },
  {
   "cell_type": "markdown",
   "metadata": {},
   "source": [
    "# Combining our sim measures\n",
    "Spacy similarity scores + cosine similarity scores"
   ]
  },
  {
   "cell_type": "code",
   "execution_count": 26,
   "metadata": {},
   "outputs": [],
   "source": [
    "def return_query(cossim_arr, spacysim_arr, data_dict):\n",
    "    '''\n",
    "    cossim_arr : 1D array of cosine similarity scores\n",
    "    spacysim_arr: 1D array of spacy similarity scores\n",
    "    data_dict: list of dicts (women)\n",
    "    \n",
    "    returns: TUPLE!\n",
    "    \n",
    "    return_docs : list of dict with top 30 women (keys are name, summary, views)\n",
    "    \n",
    "    '''\n",
    "    cosine_used = True\n",
    "    spacy_used = True\n",
    "    if max(cossim_arr) == 0:\n",
    "        cosine_used = False\n",
    "    if max(spacysim_arr) == 0:\n",
    "        spacy_used = False\n",
    "    weighted_scores = cossim_arr*0.7 + spacysim_arr*0.3\n",
    "    sim_docs = np.argsort(weighted_scores)[::-1]\n",
    "    return_docs = []\n",
    "    for hit in sim_docs[0:30]:\n",
    "        return_docs.append(data_dict[hit])\n",
    "    return return_docs, cosine_used, spacy_used"
   ]
  },
  {
   "cell_type": "code",
   "execution_count": 27,
   "metadata": {},
   "outputs": [
    {
     "data": {
      "text/plain": [
       "([{u'name': u'Lia Bronsard',\n",
       "   u'summary': u'Lia Bronsard (b. 14 March 1963) is a Canadian mathematician, the 2010 winner of the Krieger\\u2013Nelson Prize and the former president of the Canadian Mathematical Society. She is a professor of mathematics at McMaster University. In her research, she has used geometric flows to model the interface dynamics of reaction\\u2013diffusion systems. Other topics in her research include pattern formation, grain boundaries, and vortices in superfluids.\\nBronsard is originally from Qu\\xe9bec. She did her undergraduate studies at the Universit\\xe9 de Montr\\xe9al, graduating in 1983, and earned her PhD in 1988 from New York University under the supervision of Robert V. Kohn. After short-term positions at Brown University, the Institute for Advanced Study, and Carnegie Mellon University, she moved to McMaster in 1992. She was president of the Canadian Mathematical Society for 2014\\u20132016.',\n",
       "   u'views': 2},\n",
       "  {u'name': u'Hel Braun',\n",
       "   u'summary': u'Helene (Hel) Braun (June 3, 1914 \\u2013 May 15, 1986) was a German mathematician who specialized in number theory and modular forms. She also wrote an autobiography, The Beginning of A Scientific Career, describing her experience as a female scientist, a male-dominated field at the time, in the Third Reich.\\nShe is known for proving the convergence of the Eisenstein series.',\n",
       "   u'views': 4},\n",
       "  {u'name': u'Christiane Floyd',\n",
       "   u'summary': u\"Christiane Floyd (n\\xe9e Riedl; born 26 April 1943) is an Austrian computer scientist. In 1978, she became the first female professor of computer science in Germany, and was a pioneer of evolutionary participatory software design\\u2014a precursor to open-source software development.\\nBorn Christiane Riedl, she began her career studying mathematics at the University of Vienna, where she completed her PhD in 1966. From 1966 to 1968, she worked as a systems programmer using an ALGOL 60 compiler at Siemens in Munich, Germany. From 1968 to 1973, she worked at the computer science department of Stanford University in the United States as a research associate and part-time lecturer.\\nIn 1973, she joined the Munich software development company Softlab, where she worked as a senior consultant and was involved in the development and demonstration of Maestro I, the first integrated development environment for software.\\nIn 1978, Floyd became a full professor of software engineering at the Technical University of Berlin\\u2014the first woman to be a professor in the field of computer science in Germany. From 1991, she was head of the software engineering group at the University of Hamburg. Floyd and her group produced one of the first conceptual contributions to participatory design methods with the STEPS process model (Software Technology for Evolutionary Participatory Systems development). Floyd retired from academia in 2008, remaining a professor emerita at Hamburg. She has since been involved with the Vienna University of Technology WIT project (Wissenschaftlerinnenkolleg Internettechnologien; Women's Postgraduate College for Internet Technologies), which offers a specialised PhD program for women in the computer science field. Floyd was granted an honorary professorship at TU Wien on 26 January 2012.\\nShe was married to Robert W. Floyd and Peter Naur\\u2014both computer scientists.\",\n",
       "   u'views': 6},\n",
       "  {u'name': u'Paula Bonta',\n",
       "   u'summary': u'Paula Bonta is an Argentinian/Canadian computer scientist and educational software designer. She is known for developing programming environments for children, most notably contributing to the design of the Scratch programming language before it was even called Scratch. She co-founded the Playful Invention Company, a spin-off from the MIT Media Lab noted for developing the Programmable Cricket, with Mitchel Resnick and Brian Silverman and serves as Lead Designer. She was also the design director for several award-winning software products for children, including MicroWorlds and the \"My Make Believe\" series of products from Logo Computer Systems, Inc. She has a degree in computer science and a graduate degree from the Harvard Graduate School of Education.',\n",
       "   u'views': 2},\n",
       "  {u'name': u'Erica Walker',\n",
       "   u'summary': u'Erica N. Walker is an American mathematician and Professor of Mathematics and Education at Teachers College, Columbia University. Walker\\u2019s research focuses on \"social and cultural factors as well as educational policies and practices that facilitate mathematics engagement, learning and performance, especially for underserved students\".',\n",
       "   u'views': 10},\n",
       "  {u'name': u'Frances Hardcastle',\n",
       "   u'summary': u'Frances Hardcastle (August 13, 1866 \\u2013 December 26, 1941) was an English mathematician and one of the founding members, in 1894, of the American Mathematical Society. Her work included contributions to the theory of point groups.',\n",
       "   u'views': 9},\n",
       "  {u'name': u'Linda M. Hunt',\n",
       "   u'summary': u'Linda M. Hunt is medical professor especializing in Medical anthropology at Michigan State University. She teaches and researches on Medical Anthropology, Minority Health Research and Research Methods in Cultural Anthropology. She has been researching issues related to racial profiling, among others.',\n",
       "   u'views': 3},\n",
       "  {u'name': u'Jeanne Ferrante',\n",
       "   u'summary': u'Jeanne Ferrante is a computer scientist active in the field of compiler technology, where she has made important contributions regarding optimization and parallelization. Jeanne Ferrante is Professor of Computer Science and Engineering at University of California, San Diego. She received her B.A. from New College at Hofstra University in 1969, and her Ph.D. from Massachusetts Institute of Technology in 1974. Prior to joining UC San Diego in 1994, she taught at Tufts University from 1974 until 1978, where she worked on computational complexity problems such as the theory of rational order and first order theory of real addition. In 1978, she worked as a research staff at the IBM T.J. Watson Research Center until 1994.\\nDr. Ferrante\\'s work has included the development of intermediate representations for optimizing and parallelizing compilers, most notably the Program Dependence Graph and Static Single Assignment (SSA) form. She is a Fellow of the Association for Computing Machinery (ACM) and a Fellow of the Institute of Electrical and Electronic Engineers (IEEE). Her SSA work (with colleagues from IBM) was recognized in 2006 by the ACM Programming Language Achievement Award as a \"significant and lasting contribution to the field.\" As Associate Dean, she co-founded UCSD Teams In Engineering Service (now Global TIES), which partners multidisciplinary teams of undergraduates with non-profit organizations to provide long-term technical solutions. Dr. Ferrante also co-founded the UCSD Women\\u2019s Leadership Alliance, whose aim is to advance leadership development, networking, and recognition of women campus leaders at UC San Diego. She was honored as a UCSD Community Champion for Diversity in 2004 and 2012, and received the 2007 Athena Educator Pinnacle Award for her diversity leadership efforts.\\nShe is currently a professor at the University of California, San Diego, where she has also held the positions of Associate Vice Chancellor for Faculty Equity, and Associate Dean of the Jacobs School of Engineering. She is a Fellow of the Association for Computing Machinery (1996) and the IEEE (2005).',\n",
       "   u'views': 3},\n",
       "  {u'name': u'Tine Jensen',\n",
       "   u'summary': u\"Tine Kristin Jensen (born 1957) is a Norwegian psychologist. She is a Professor of Psychology at the University of Oslo and a Research Professor at the Norwegian Centre for Violence and Traumatic Stress Studies. Jensen is an expert on children and psychological trauma, developmental psychology, and treatment studies. Her research has focused on e.g. sexually abused children, how Norwegian parents and children coped with the 2004 Indian Ocean earthquake and tsunami, adolescents who survived the Ut\\xf8ya massacre and their families, young unaccompanied asylum seekers and treatment of traumatized children.\\nShe has a candidata psychologiae degree from the University of Oslo (1986), a doctoral degree from the same university (2005), and is a specialist in clinical psychology.\\nUnfortunately, there isn't enough information. For more, visit https://www.binweevils.com/\",\n",
       "   u'views': 2},\n",
       "  {u'name': u'List of female Fellows of the Royal Society',\n",
       "   u'summary': u'Fellowship of the Royal Society is open to scientists, engineers and technologists from the United Kingdom and Commonwealth of Nations, on the basis of having made \"a substantial contribution to the improvement of natural knowledge, including mathematics, engineering science and medical science\". Election to the Fellowship is highly regarded and sought after, bringing prestige to both the individual academically and the institution the Fellow is associated with. For scientists in the United Kingdom, the recognition is considered second only to being awarded the Nobel Prize.\\nWhile there was no explicit prohibition of women as Fellows of the Royal Society in its original charters and statutes, election to the Fellowships was for much of the Society\\'s history de facto closed to women. As a result of the dissolution of nunneries in connection with the Dissolution of the Monasteries by Henry VIII, and female exclusion from schools and universities, the formal education of British girls and women was effectively non-existent throughout the 17th and 18th centuries. Women slowly gained admittance to learned societies in the UK starting in the 19th century, with the founding of the Zoological Society of London in 1829 and the Royal Entomological Society in 1833, both of which admitted women Fellows from their inception.\\nThe first recorded question of women being admitted to the Royal Society occurred in 1900, when Marian Farquharson, the first female Fellow of the Royal Microscopical Society, sent a letter to the Council of the Royal Society petitioning that \"duly qualified women should have the advantage of full fellowship\". In its reply, the Council stated that the question of women Fellows \"must depend on the interpretation to be placed upon the Royal Charters under which the Society has been governed for more than three hundred years\". When Hertha Ayrton was nominated for Fellowship in 1902, her candidature was turned down on the basis that as a married woman she had no standing in law. The Sex Disqualification (Removal) Act 1919 made it illegal for an incorporated society to refuse admission on the grounds of an individual\\'s sex or marital status. While the Society acknowledged the provision of section 1 of the Act in 1925, in reply to a question originally put to them by the Women\\'s Engineering Society three years prior, it was not until 1943 that another woman was nominated for Fellowship. Kathleen Lonsdale and Marjory Stephenson were duly elected in 1945, after a postal vote amending the Society\\'s statutes to explicitly allow women Fellows.\\nAs of 2014, a total of 133 women have been elected Fellows. Two women have been elected under the Society\\'s former Statute 12 regulation and one Honorary Fellow for their service to the cause of science. Another four women, from the British Royal Family, have been either Royal Fellows or Patrons of the Society. Of the approximately 1,600 living Fellows and Foreign Members, 5 percent are women.',\n",
       "   u'views': 19},\n",
       "  {u'name': u'Yuriko Renardy',\n",
       "   u'summary': u\"Yuriko Yamamuro Renardy is an Australian\\u2013American expert in fluid dynamics who works as a Class Of 1950 Endowed Professor of Mathematics at Virginia Tech.\\nRenardy earned a bachelor's degree from the Australian National University in 1977, and a doctorate in 1981 from the University of Western Australia. Her dissertation, supervised by John J. Mahony, was entitled Water Waves above a Sill. She worked as a lecturer, researcher, and project coordinator at the University of Wisconsin\\u2013Madison and University of Minnesota before joining the Virginia Tech faculty as an assistant professor in 1986. She became the Class Of 1950 Professor in 2000.\\nRenardy became a fellow of the American Physical Society in 1997, the Institute of Mathematics and its Applications in 2011, and the Society for Industrial and Applied Mathematics in 2014.\",\n",
       "   u'views': 1},\n",
       "  {u'name': u'Heather Burke',\n",
       "   u'summary': u\"Heather Burke is an Australian historical archaeologist. She is an associate professor at Flinders University.\\nBurke obtained a bachelor's degree in archaeology from the University of New England in 1987, and a PhD from the same university in 1997. Her doctoral thesis investigated the expression of ideology through architectural style in the city of Armidale, New South Wales, during the period 1830\\u20131930. It was published as Meaning and Ideology in Historical Archaeology (1999).\\nBefore her appointment at Flinders, she taught briefly at the University of New England and worked as a consultant archaeologist.\\nShe is an avid fan of the film 'Sharknado', the viewing of which has become a family tradition, although she missed the 2017 viewing of the 4th and 5th films.\",\n",
       "   u'views': 2},\n",
       "  {u'name': u'Ruth Moufang',\n",
       "   u'summary': u\"Ruth Moufang (January 10, 1905 \\u2013 November 26, 1977) was a German mathematician.\\nBorn to a German chemist Dr. Eduard Moufang and Else Fecht Moufang, she studied mathematics at the University of Frankfurt. In 1931 she received her Ph.D. on projective geometry under the direction of Max Dehn, and in 1932 spent a fellowship year in Rome. After her year in Rome, she returned to Germany to lecture at the University of K\\xf6nigsberg and the University of Frankfurt. Her research in projective geometry built upon the work of David Hilbert. She was responsible for ground-breaking work on non-associative algebraic structures, including the Moufang loops named after her.\\nIn 1933 Moufang showed Desargues's theorem does not hold in the Cayley plane. The Cayley plane uses octonion coordinates which do not satisfy the associative law. Such connections between geometry and algebra had been previously noted by Karl von Staudt and David Hilbert. Ruth Moufang thus initiated a new branch of geometry called Moufang planes.\\nDenied permission to teach by the minister of education of Nazi Germany, she worked in private industry until 1946, when she became the first woman professor at the University of Frankfurt.\",\n",
       "   u'views': 6},\n",
       "  {u'name': u'Ruth Gentry',\n",
       "   u'summary': u'Ruth Gentry (February 22, 1862 \\u2013 October 18, 1917) was a pioneering American woman mathematician during the late 19th century and the beginning of the 20th century. She was the first native-born Indiana woman to acquire a PhD degree in mathematics, and most likely the first woman born in Indiana to receive a doctoral degree in any scientific discipline.',\n",
       "   u'views': 1},\n",
       "  {u'name': u'Ye Shuhua',\n",
       "   u'summary': u\"Ye Shuhua (Chinese: \\u53f6\\u53d4\\u534e; born June 21, 1927) is a Chinese astronomer and professor at Shanghai Astronomical Observatory, known for achieving one of the world's most precise measurements of Universal Time in the 1960s, and for establishing the very-long-baseline interferometry (VLBI) and satellite laser ranging (SLR) techniques in China.\\nYe formerly served as President of Shanghai Astronomical Observatory, Vice-President of the Chinese Astronomical Society, and Vice-President of the International Astronomical Union. She is a member of the Chinese Academy of Sciences, and a foreign fellow of the Royal Astronomical Society of Britain. The asteroid 3241 Yeshuhua is named after her.\",\n",
       "   u'views': 2},\n",
       "  {u'name': u'Jill Tarter',\n",
       "   u'summary': u'Jill Cornell Tarter (born January 16, 1944) is an American astronomer best known for her work on the search for extraterrestrial intelligence (SETI). Tarter is the former director of the Center for SETI Research, holding the Bernard M. Oliver Chair for SETI at the SETI Institute.',\n",
       "   u'views': 61},\n",
       "  {u'name': u'Elisabeth Vrba',\n",
       "   u'summary': u'Elisabeth S. Vrba (born 17 May 1942) is a paleontologist at Yale University. Vrba earned her Ph.D. in Zoology and Palaeontology at the University of Cape Town, in 1974. She is well known for developing the Turnover Pulse Hypothesis, as well as coining the word exaptation with colleague Stephen Jay Gould. Her specific interest is in the Family Bovidae (antelopes, etc.), but her current students are studying a wide range of species. She has been a faculty member at the Department of Geology & Geophysics, Yale University, since the early 1980s. She is married and has a daughter.\\nShe is renowned as both a researcher and a teacher.\\nHer teaching practises and personality were described by a student. He wrote about her on Trowel Blazers, saying, \"I had the pleasure and honor to meet ESV one time when I was still a student and I experienced not only her charisma and clear talking but also her humanity and openness (she patiently answered questions coming from hundreds of students, professors and children\\u2026sitting on a stairway).\"\\nVrba studied zoology and mathematical statistics at the University of Cape Town to earn her undergraduate degree. She remained there for doctoral study in zoology and paleontology to earn her Ph.D. After receiving her doctorate, Vrba conducted her early research on African fossil records over the last several million years, tracking the sequence of fossils from analyzing the geological strata and analyzing the morphology of the fossils.',\n",
       "   u'views': 8},\n",
       "  {u'name': u'Adelaide Ames',\n",
       "   u'summary': u'Adelaide Ames (June 3, 1900 \\u2013 June 26, 1932) was an American astronomer and research assistant at Harvard University. She contributed to the study of galaxies with her co-authorship of A Survey of the External Galaxies Brighter Than the Thirteenth Magnitude, which was later known as the Shapley-Ames catalog. Ames was a member of the American Astronomical Society. She was a contemporary of Cecilia Payne-Gaposchkin and her closest friend at the observatory.\\nAmes died in a boating accident in 1932, the same year the Shapley-Ames catalog was published. She was interred at the Arlington National Cemetery.',\n",
       "   u'views': 5},\n",
       "  {u'name': u'Margarita Nolasco Santiago',\n",
       "   u'summary': u'Margarita Nolasco Santiago is a Puerto Rican politician, Senator, and former Mayor of Coamo. She has been a member of the Senate of Puerto Rico since 2004.',\n",
       "   u'views': 3},\n",
       "  {u'name': u'Terri Irwin',\n",
       "   u'summary': u'Theresa Penelope \"Terri\" Irwin  (n\\xe9e Raines; born July 20, 1964) is an American-Australian naturalist and author, and the owner of Australia Zoo in Beerwah, Queensland. She is the widow of naturalist and television personality Steve Irwin. Terri Irwin co-starred with her husband on The Crocodile Hunter, their unconventional television nature documentary series and its spin-off series, Croc Files and The Crocodile Hunter Diaries. She has lived in Australia since 1992, when she married Irwin.',\n",
       "   u'views': 925},\n",
       "  {u'name': u'Susan E. Alcock',\n",
       "   u'summary': u'Susan Ellen Alcock is an American archaeologist specialising in survey archaeology and the archaeology of memory in the provinces of the Roman empire. Alcock grew up in Massachusetts and was educated at Yale and the University of Cambridge. She is currently Special Counsel for Institutional Outreach and Engagement and Professor of Classical Archaeology and Classics at the University of Michigan.',\n",
       "   u'views': 6},\n",
       "  {u'name': u'Katrin Wendland',\n",
       "   u'summary': u'Katrin Wendland is a German mathematical physicist who works as a professor at the University of Freiburg.\\nWendland earned a diploma in mathematics from the University of Bonn in 1996, and a Ph.D. in physics from the University of Bonn in 2000, under the supervision of Werner Nahm. After being a lecturer and then senior lecturer at the University of Warwick from 2002 to 2006, she returned to Germany as a professor at the University of Augsburg, where she held the Chair for Analysis and Geometry. She moved to Freiburg in 2011.\\nIn 2009, Wendland was given the Medal for special merits for Bavaria in a united Europe by the Bavarian government. In 2010 she was an invited speaker at the International Congress of Mathematicians, with a talk entitled \"On the geometry of singularities in quantum field theories\". In 2012 she became one of the inaugural fellows of the American Mathematical Society. She was elected to the Akademie der Wissenschaften und der Literatur in 2013.',\n",
       "   u'views': 2},\n",
       "  {u'name': u'Jane Hamilton Hall',\n",
       "   u'summary': u'Jane Hamilton Hall (23 June 1915\\u2013November 1981) was an American physicist. During World War II she worked on the Manhattan Project. After the war she remained at the Los Alamos National Laboratory, where she oversaw the construction and start up of the Clementine nuclear reactor. She became assistant director of the laboratory in 1958. She was secretary of the General Advisory Committee of the Atomic Energy Commission from 1956 until 1959, and was a member of the committee from 1966 to 1972.',\n",
       "   u'views': 3},\n",
       "  {u'name': u'Nancy Sottos',\n",
       "   u'summary': u'Nancy Sottos is an American materials scientist and professor of engineering. She is the Donald B. Willet Professor of Engineering of the Department of Materials Science and Engineering at the University of Illinois at Urbana\\u2013Champaign. She is also a co-chair of the Molecular and Electronic Nanostructures Research Theme at the Beckman Institute for Advanced Science and Technology. She heads the Sottos Research Group.\\nSottos studies deformation and failure of materials at mesoscale, microscale, and nanoscale levels, and has made significant contributions in self-healing material, advanced polymer matrix composites, and thin films. She is a pioneer in the area of adaptive materials, creating the first self-healing polymers with Jeffrey S. Moore, Scott White, and others as of 2000.',\n",
       "   u'views': 2},\n",
       "  {u'name': u'Carol Breckenridge',\n",
       "   u'summary': u'Carol A. Breckenridge (1942\\u20132009) was an American anthropologist and Associate Professor of History at the New School for Social Research, author of many books and articles on colonialism and the political economy of ritual; state, polity, and religion in South India; society and aesthetics in India since 1850; culture theory; and cosmopolitan cultural forms. In 1988 Breckenridge and fellow founding editor Arjun Appadurai started Public Culture, a field-defining academic journal in the areas of globalization and transnational cultural studies.\\nBreckenridge received her Ph.D. from the University of Wisconsin\\u2013Madison in 1976 and formerly taught in the Department of South Asian Languages and Civilizations at the University of Chicago. She died of cancer on October 4, 2009. She is survived by her husband, anthropologist Arjun Appadurai, and their son Alok.',\n",
       "   u'views': 4},\n",
       "  {u'name': u'Margaret Meyer',\n",
       "   u'summary': u'Margaret Theodora Meyer (September 1862 \\u2013 27 January 1924), also known as Maud Meyer was a British mathematician. She was one of the first directors of studies in mathematics, and one of the earliest members of the London Mathematical Society. In 1916, she was one of the first woman to be elected a fellow of the Royal Astronomical Society.',\n",
       "   u'views': 2},\n",
       "  {u'name': u'Catherine T. Hunt',\n",
       "   u'summary': u'Catherine T. Hunt (born June 29, 1955) is an American chemist. In 2007, she served as the president of the American Chemical Society (ACS). She was a director at Dow Chemical Company.',\n",
       "   u'views': 3},\n",
       "  {u'name': u'Sarah Blaffer Hrdy',\n",
       "   u'summary': u'Sarah Hrdy (n\\xe9e Blaffer; born July 11, 1946) is an American anthropologist and primatologist who has made several major contributions to evolutionary psychology and sociobiology. She has been selected as one of the 21 \\u201cLeaders in Animal Behavior.\\u201d',\n",
       "   u'views': 41},\n",
       "  {u'name': u'Bozenna Pasik-Duncan',\n",
       "   u'summary': u\"Bozenna Pasik-Duncan is a Polish-American mathematician who works as a professor of mathematics at the University of Kansas. Her research concerns stochastic control and its applications in communications, economics, and health science. She is also interested in mathematics education, particularly for women in STEM fields.\\nPasik-Duncan earned a master's degree in mathematics from the University of Warsaw in 1970. She completed a Ph.D. at the Warsaw School of Economics in 1978, and earned a habilitation there in 1986. She moved to the University of Kansas mathematics department in 1984, joining there her husband Tyrone Duncan (also a University of Kansas mathematician).\\nShe was a recipient of the IEEE's Third Millennium Medal in 2000, and became a Fellow of the IEEE in 2001. She was the 2004 AWM/MAA Falconer Lecturer, and the 2004 winner of the Louise Hay Award for Contributions to Mathematics Education of the Association for Women in Mathematics.\",\n",
       "   u'views': 2},\n",
       "  {u'name': u'Dana Angluin',\n",
       "   u'summary': u'Dana Angluin is a professor of computer science at Yale University. She contributed to the foundations of computational learning theory.',\n",
       "   u'views': 11}],\n",
       " False,\n",
       " True)"
      ]
     },
     "execution_count": 27,
     "metadata": {},
     "output_type": "execute_result"
    }
   ],
   "source": [
    "query = u\"is a BAMF\"\n",
    "s = spacysim_scores(spacy_array, query, deduped_women)\n",
    "c = cossim_scores(vectorizer, matx, query, deduped_women)\n",
    "return_query(c, s, deduped_women)"
   ]
  }
 ],
 "metadata": {
  "kernelspec": {
   "display_name": "Python 2",
   "language": "python",
   "name": "python2"
  },
  "language_info": {
   "codemirror_mode": {
    "name": "ipython",
    "version": 2
   },
   "file_extension": ".py",
   "mimetype": "text/x-python",
   "name": "python",
   "nbconvert_exporter": "python",
   "pygments_lexer": "ipython2",
   "version": "2.7.14"
  }
 },
 "nbformat": 4,
 "nbformat_minor": 2
}
