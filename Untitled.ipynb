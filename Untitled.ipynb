{
 "cells": [
  {
   "cell_type": "code",
   "execution_count": 76,
   "metadata": {},
   "outputs": [],
   "source": [
    "# the imports used in A2\n",
    "# -*- coding: utf-8 -*-\n",
    "import re\n",
    "# import json\n",
    "from glob import glob\n",
    "import os\n",
    "from io import StringIO\n",
    "from itertools import groupby\n",
    "import pickle\n",
    "\n",
    "import numpy as np\n",
    "import bs4\n",
    "# Imports that might help with various functionality\n",
    "import functools\n",
    "import operator\n",
    "\n",
    "# Additional imports from A3\n",
    "from __future__ import print_function\n",
    "import math\n",
    "from collections import defaultdict\n",
    "from nltk.tokenize import TreebankWordTokenizer\n",
    "\n",
    "# Additional imports from A5\n",
    "import nltk\n",
    "nltk.download('stopwords')\n",
    "from nltk.corpus import stopwords\n",
    "from nltk.tokenize import word_tokenize\n",
    "\n",
    "# import Empath\n",
    "from empath import Empath\n",
    "lexicon = Empath()\n",
    "\n",
    "import sys\n",
    "reload(sys)\n",
    "sys.setdefaultencoding(\"utf-8\")\n",
    "\n",
    "import spacy"
   ]
  },
  {
   "cell_type": "code",
   "execution_count": 77,
   "metadata": {},
   "outputs": [],
   "source": [
    "# import the json\n",
    "import json\n",
    "with open(\"updated_data.json\", \"r\") as f:\n",
    "    women_summaries = json.load(f)"
   ]
  },
  {
   "cell_type": "code",
   "execution_count": 92,
   "metadata": {},
   "outputs": [],
   "source": [
    "# creates a list of women to keep as a global variable\n",
    "#print (women_summaries)\n",
    "women_names = list()\n",
    "for i in range(len(women_summaries)):\n",
    "    name = women_summaries[i]['name']\n",
    "    end_index = name.find('(')\n",
    "    if end_index != -1 and name[: (end_index-1)] not in women_names :\n",
    "        women_names.append(name[: (end_index-1)])\n",
    "    elif end_index == -1 and name not in women_names :\n",
    "        women_names.append(name)\n",
    "        \n",
    "print(women_names)"
   ]
  },
  {
   "cell_type": "code",
   "execution_count": 93,
   "metadata": {},
   "outputs": [],
   "source": [
    "# creates a dictionary {'name', [list of words in the summary]}\n",
    "women_dict = dict()\n",
    "# for i in range(len(women_summaries)):\n",
    "#     name = women_summaries[i]['name']\n",
    "for i in range(len(women_names)):\n",
    "    name = women_names[i]\n",
    "    summary = women_summaries[i]['summary']\n",
    "    # to do: \n",
    "    # hardcoded the words that we're looking for\n",
    "    # change to regex later time\n",
    "    index_was = summary.find('was ')\n",
    "    index_is = summary.find('is ')\n",
    "    index_currently = summary.find('currently ')\n",
    "    if (index_was == -1 and index_is == -1):\n",
    "        summary2 = summary[index_currently:]\n",
    "        # index_period = summary2.find('.')\n",
    "        # first_sent = summary2[:index_period]\n",
    "    elif (index_was == -1 and index_currently == -1):\n",
    "        summary2 = summary[index_is:]\n",
    "        # index_period = summary2.find('.')\n",
    "        # first_sent = summary2[:index_period]\n",
    "    elif (index_is == -1 and index_currently == -1):\n",
    "        summary2 = summary[index_was:]\n",
    "        # index_period = summary2.find('.')\n",
    "        # first_sent = summary2[:index_period]\n",
    "    else :\n",
    "        index_min = min(index_is, index_was)\n",
    "        summary2 = summary[index_min:]\n",
    "        # index_period = summary2.find('.')\n",
    "        # first_sent = summary2[:index_period]\n",
    "    # might want to change if we use ML that finds proper nouns\n",
    "    # implement a stemmer\n",
    "    first_sent_lower = summary2.lower()\n",
    "    tokenizer = TreebankWordTokenizer()\n",
    "    first_sent_tok = tokenizer.tokenize(first_sent_lower)\n",
    "    filtered_first_sent = [w for w in first_sent_tok if w not in stopwords.words('english')]\n",
    "    \n",
    "    regex_non_word = re.compile(r'[^\\W]')\n",
    "    filtered_final = filter(regex_non_word.search, filtered_first_sent)\n",
    "\n",
    "    women_dict[name] = list(filtered_final)\n",
    "print(women_dict)\n",
    "    "
   ]
  },
  {
   "cell_type": "code",
   "execution_count": 80,
   "metadata": {},
   "outputs": [],
   "source": [
    "def sumWords(text): \n",
    "    wordDict = dict()\n",
    "    for word in text :\n",
    "        if word in wordDict :\n",
    "            wordDict[word] = wordDict[word] + 1\n",
    "        else :\n",
    "            wordDict[word] = 1\n",
    "    return (wordDict)"
   ]
  },
  {
   "cell_type": "code",
   "execution_count": 81,
   "metadata": {},
   "outputs": [],
   "source": [
    "# create the global variable of what is equivalent to good_types\n",
    "unique_word_lst = list()\n",
    "for woman in women_dict:\n",
    "    summary = women_dict[woman]\n",
    "    for word in summary :\n",
    "        if word not in unique_word_lst :\n",
    "            unique_word_lst.append(word)\n",
    "            \n",
    "        "
   ]
  },
  {
   "cell_type": "code",
   "execution_count": 82,
   "metadata": {},
   "outputs": [],
   "source": [
    "# creates a np array where the rows are women according to the list of women names\n",
    "# columns are rows according to the list of unique words\n",
    "def create_word_freq_array(input_women_dict, input_women_names, input_num_women, input_unique_word_lst):\n",
    "    dict_freq = dict()\n",
    "\n",
    "    for woman in input_women_dict:\n",
    "        dict_freq[woman] = sumWords(input_women_dict[woman])\n",
    "    \n",
    "    np_with_freq = np.zeros(shape = (len(dict_freq), len(input_unique_word_lst)))\n",
    "    i = 0\n",
    "    for woman in input_women_names :\n",
    "#         print(woman)\n",
    "        if woman in dict_freq :\n",
    "            j = 0\n",
    "            for word in input_unique_word_lst :\n",
    "                if word in dict_freq[woman] :\n",
    "#                     print(j)\n",
    "                    np_with_freq[i][j] = dict_freq[woman][word]\n",
    "                j = j + 1\n",
    "            i = i + 1\n",
    "#     print(np_with_freq[0][0])\n",
    "    return np_with_freq\n",
    "#     print(input_unique_word_lst.index('chogha'))\n",
    "    \n",
    "        "
   ]
  },
  {
   "cell_type": "code",
   "execution_count": 83,
   "metadata": {},
   "outputs": [],
   "source": [
    "#word_freq_array = create_word_freq_array(women_dict, women_names, len(women_dict), unique_word_lst)\n",
    "print (word_freq_array)"
   ]
  },
  {
   "cell_type": "code",
   "execution_count": 84,
   "metadata": {},
   "outputs": [],
   "source": [
    "#women_dict_lsent = {'Mary Anning': ['english', 'fossil', 'collector', 'dealer', 'paleontologist', 'became', 'known', 'around', 'world', 'important', 'finds', 'made', 'jurassic', 'marine', 'fossil', 'beds', 'cliffs', 'along', 'english', 'channel', 'lyme', 'regis', 'county', 'dorset', 'southwest', 'england.', 'findings', 'contributed', 'important', 'changes', 'scientific', 'thinking', 'prehistoric', 'life', 'history', 'earth.', 'anning', 'searched', 'fossils', 'area', \"'s\", 'blue', 'lias', 'cliffs', 'particularly', 'winter', 'months', 'landslides', 'exposed', 'new', 'fossils', 'collected', 'quickly', 'lost', 'sea.', 'nearly', 'died', '1833', 'landslide', 'killed', 'dog', 'tray.', 'discoveries', 'included', 'first', 'ichthyosaur', 'skeleton', 'correctly', 'identified', 'first', 'two', 'complete', 'plesiosaur', 'skeletons', 'found', 'first', 'pterosaur', 'skeleton', 'located', 'outside', 'germany', 'important', 'fish', 'fossils.', 'observations', 'played', 'key', 'role', 'discovery', 'coprolites', 'known', 'bezoar', 'stones', 'time', 'fossilised', 'faeces.', 'also', 'discovered', 'belemnite', 'fossils', 'contained', 'fossilised', 'ink', 'sacs', 'like', 'modern', 'cephalopods.', 'geologist', 'henry', 'de', 'la', 'beche', 'painted', 'duria', 'antiquior', 'first', 'widely', 'circulated', 'pictorial', 'representation', 'scene', 'prehistoric', 'life', 'derived', 'fossil', 'reconstructions', 'based', 'largely', 'fossils', 'anning', 'found', 'sold', 'prints', 'benefit.', 'anning', 'fully', 'participate', 'scientific', 'community', '19th-century', 'britain', 'mostly', 'anglican', 'gentlemen.', 'struggled', 'financially', 'much', 'life.', 'family', 'poor', 'father', 'cabinetmaker', 'died', 'eleven.', 'became', 'well', 'known', 'geological', 'circles', 'britain', 'europe', 'america', 'consulted', 'issues', 'anatomy', 'well', 'collecting', 'fossils.', 'nonetheless', 'woman', 'eligible', 'join', 'geological', 'society', 'london', 'always', 'receive', 'full', 'credit', 'scientific', 'contributions.', 'indeed', 'wrote', 'letter', 'world', 'used', 'unkindly', 'fear', 'made', 'suspicious', 'everyone.', 'scientific', 'writing', 'published', 'lifetime', 'appeared', 'magazine', 'natural', 'history', '1839', 'extract', 'letter', 'anning', 'written', 'magazine', \"'s\", 'editor', 'questioning', 'one', 'claims.', 'death', '1847', 'unusual', 'life', 'story', 'attracted', 'increasing', 'interest.', 'uncredited', 'author', 'year', 'round', 'edited', 'charles', 'dickens', 'wrote', '1865', 'carpenter', \"'s\", 'daughter', 'name', 'deserved', 'win', 'it.', 'often', 'claimed', 'story', 'inspiration', '1908', 'tongue-twister', 'sells', 'seashells', 'seashore', 'terry', 'sullivan.', '2010', 'one', 'hundred', 'sixty-three', 'years', 'death', 'royal', 'society', 'included', 'anning', 'list', 'ten', 'british', 'women', 'influenced', 'history', 'science'], 'Lilias Armstrong': ['english', 'phonetician.', 'worked', 'university', 'college', 'london', 'attained', 'rank', 'reader.', 'armstrong', 'known', 'work', 'english', 'intonation', 'well', 'phonetics', 'tone', 'somali', 'kikuyu.', 'book', 'english', 'intonation', 'written', 'ida', 'c.', 'ward', 'print', '50', 'years.', 'armstrong', 'also', 'provided', 'first', 'detailed', 'descriptions', 'tone', 'somali', 'kikuyu.', 'armstrong', 'grew', 'northern', 'england.', 'graduated', 'university', 'leeds', 'studied', 'french', 'latin.', 'taught', 'french', 'elementary', 'school', 'london', 'suburbs', 'joined', 'university', 'college', 'phonetics', 'department', 'headed', 'daniel', 'jones.', 'notable', 'works', '1926', 'book', 'handbook', 'english', 'intonation', 'co-written', 'ward', '1934', 'paper', 'phonetic', 'structure', 'somali', 'book', 'phonetic', 'tonal', 'structure', 'kikuyu', 'published', 'posthumously', '1940', 'died', 'stroke', '1937', 'age', '55.', 'subeditor', 'international', 'phonetic', 'association', \"'s\", 'journal', 'le', 'maître', 'phonétique', 'decade', 'praised', 'day', 'teaching', 'academic', 'term', 'department', \"'s\", 'summer', 'vacation', 'courses.', 'jones', 'wrote', 'obituary', 'one', 'finest', 'phoneticians', 'world'], 'Ann Bannon': ['american', 'author', '1957', '1962', 'wrote', 'six', 'lesbian', 'pulp', 'fiction', 'novels', 'known', 'beebo', 'brinker', 'chronicles.', 'books', 'enduring', 'popularity', 'impact', 'lesbian', 'identity', 'earned', 'title', 'queen', 'lesbian', 'pulp', 'fiction', 'bannon', 'young', 'housewife', 'trying', 'address', 'issues', 'sexuality', 'inspired', 'write', 'first', 'novel.', 'subsequent', 'books', 'featured', 'four', 'characters', 'reappeared', 'throughout', 'series', 'including', 'eponymous', 'heroine', 'beebo', 'brinker', 'came', 'embody', 'archetype', 'butch', 'lesbian.', 'majority', 'characters', 'mirrored', 'people', 'knew', 'stories', 'reflected', 'life', 'feel', 'able', 'live.', 'despite', 'traditional', 'upbringing', 'role', 'married', 'life', 'novels', 'defied', 'conventions', 'romance', 'stories', 'depictions', 'lesbians', 'addressing', 'complex', 'homosexual', 'relationships.', 'books', 'shaped', 'lesbian', 'identity', 'lesbians', 'heterosexuals', 'alike', 'bannon', 'mostly', 'unaware', 'impact.', 'stopped', 'writing', '1962.', 'later', 'earned', 'doctorate', 'linguistics', 'became', 'academic.', 'endured', 'difficult', 'marriage', '27', 'years', 'separated', 'husband', '1980s', 'books', 'republished', 'stunned', 'learn', 'influence', 'society.', 'released', '2001', '2003', 'adapted', 'award-winning', 'off-broadway', 'production.', 'taught', 'women', \"'s\", 'lgbt', 'studies', 'courses', 'bannon', 'received', 'numerous', 'awards', 'pioneering', 'lesbian', 'gay', 'literature.', 'described', 'premier', 'fictional', 'representation', 'us', 'lesbian', 'life', 'fifties', 'sixties', 'said', 'books', 'rest', 'bookshelf', 'nearly', 'every', 'even', 'faintly', 'literate', 'lesbian'], 'Rachel Carson': ['american', 'marine', 'biologist', 'author', 'conservationist', 'whose', 'book', 'silent', 'spring', 'writings', 'credited', 'advancing', 'global', 'environmental', 'movement.', 'carson', 'began', 'career', 'aquatic', 'biologist', 'u.s.', 'bureau', 'fisheries', 'became', 'full-time', 'nature', 'writer', '1950s.', 'widely', 'praised', '1951', 'bestseller', 'sea', 'around', 'us', 'u.s.', 'national', 'book', 'award', 'recognition', 'gifted', 'writer', 'financial', 'security.', 'next', 'book', 'edge', 'sea', 'reissued', 'version', 'first', 'book', 'sea', 'wind', 'also', 'bestsellers.', 'sea', 'trilogy', 'explores', 'whole', 'ocean', 'life', 'shores', 'depths.', 'late', '1950s', 'carson', 'turned', 'attention', 'conservation', 'especially', 'problems', 'believed', 'caused', 'synthetic', 'pesticides.', 'result', 'book', 'silent', 'spring', '1962', 'brought', 'environmental', 'concerns', 'unprecedented', 'share', 'american', 'people.', 'although', 'silent', 'spring', 'met', 'fierce', 'opposition', 'chemical', 'companies', 'spurred', 'reversal', 'national', 'pesticide', 'policy', 'led', 'nationwide', 'ban', 'ddt', 'pesticides.', 'also', 'inspired', 'grassroots', 'environmental', 'movement', 'led', 'creation', 'u.s.', 'environmental', 'protection', 'agency.', 'carson', 'posthumously', 'awarded', 'presidential', 'medal', 'freedom', 'jimmy', 'carter'], 'Ursula Franklin': ['german-canadian', 'metallurgist', 'research', 'physicist', 'author', 'educator', 'taught', 'university', 'toronto', '40', 'years.', 'author', 'real', 'world', 'technology', 'based', '1989', 'massey', 'lectures', 'ursula', 'franklin', 'reader', 'pacifism', 'map', 'collection', 'papers', 'interviews', 'talks', 'ursula', 'franklin', 'speaks', 'thoughts', 'afterthoughts', 'containing', '22', 'speeches', 'five', 'interviews', '1986', '2012.', 'franklin', 'practising', 'quaker', 'actively', 'worked', 'behalf', 'pacifist', 'feminist', 'causes.', 'wrote', 'spoke', 'extensively', 'futility', 'war', 'connection', 'peace', 'social', 'justice.', 'franklin', 'received', 'numerous', 'honours', 'awards', 'including', 'governor', 'general', \"'s\", 'award', 'commemoration', 'persons', 'case', 'promoting', 'equality', 'girls', 'women', 'canada', 'pearson', 'medal', 'peace', 'work', 'advancing', 'human', 'rights.', '2012', 'inducted', 'canadian', 'science', 'engineering', 'hall', 'fame.', 'toronto', 'high', 'school', 'ursula', 'franklin', 'academy', 'named', 'honour.', 'franklin', 'best', 'known', 'writings', 'political', 'social', 'effects', 'technology.', 'technology', 'much', 'machines', 'gadgets', 'electronic', 'transmitters.', 'comprehensive', 'system', 'includes', 'methods', 'procedures', 'organization', 'mindset', 'distinguished', 'holistic', 'technologies', 'used', 'craft', 'workers', 'artisans', 'prescriptive', 'ones', 'associated', 'division', 'labour', 'large-scale', 'production.', 'holistic', 'technologies', 'allow', 'artisans', 'control', 'work', 'start', 'finish.', 'prescriptive', 'technologies', 'organize', 'work', 'sequence', 'steps', 'requiring', 'supervision', 'bosses', 'managers.', 'franklin', 'argued', 'dominance', 'prescriptive', 'technologies', 'modern', 'society', 'discourages', 'critical', 'thinking', 'promotes', 'culture', 'compliance', 'franklin', 'belongs', 'intellectual', 'tradition', 'harold', 'innis', 'jacques', 'ellul', 'warn', 'technology', \"'s\", 'tendency', 'suppress', 'freedom', 'endanger', 'civilization.', 'franklin', 'acknowledged', 'debt', 'ellul', 'well', 'several', 'thinkers', 'including', 'lewis', 'mumford', 'c.', 'b.', 'macpherson', 'e.', 'f.', 'schumacher', 'vandana', 'shiva.', 'debt', 'without', 'recognizing', 'list', 'largely', 'absent', 'women.', 'addition', 'philosophy', 'technology', 'believed', 'science', 'severely', 'impoverished', 'women', 'discouraged', 'taking', 'part', 'exploration', 'knowledge']}\n",
    "\n"
   ]
  },
  {
   "cell_type": "code",
   "execution_count": 91,
   "metadata": {},
   "outputs": [],
   "source": [
    "def women_categories(input_women_dict):\n",
    "    categories = {}\n",
    "    \n",
    "    for woman in input_women_dict:\n",
    "        dict_of_categories = lexicon.analyze(input_women_dict[woman]) # Not create_category?\n",
    "        #print(\"LIST OF CATEGORIES\")\n",
    "        dict_of_categories = {k: v for k, v in dict_of_categories.iteritems() if v > 0.0}\n",
    "        categories[woman] = dict_of_categories\n",
    "        \n",
    "    return categories\n",
    "\n",
    "women_categories_empath = women_categories(women_dict)  \n",
    "print(women_categories_empath)"
   ]
  },
  {
   "cell_type": "code",
   "execution_count": 86,
   "metadata": {},
   "outputs": [],
   "source": [
    "def unique_categories(input_women_categories):\n",
    "    # Returns: list of unique string categories\n",
    "    categories = []\n",
    "    categories_set = set()\n",
    "    for woman in input_women_categories:\n",
    "        categories_set = categories_set & set(input_women_categories)\n",
    "        \n",
    "    categories = list(categories_set)\n",
    "    return categories"
   ]
  },
  {
   "cell_type": "code",
   "execution_count": 87,
   "metadata": {},
   "outputs": [],
   "source": [
    "unique_categories = unique_categories(women_categories_empath)"
   ]
  },
  {
   "cell_type": "code",
   "execution_count": 88,
   "metadata": {},
   "outputs": [],
   "source": [
    "def return_empath_query_categories(query, input_unique_categories):\n",
    "    return lexicon.analyze(query, categories=input_unique_categories) # Don't have to normalize for now"
   ]
  },
  {
   "cell_type": "code",
   "execution_count": 89,
   "metadata": {},
   "outputs": [],
   "source": []
  },
  {
   "cell_type": "code",
   "execution_count": null,
   "metadata": {},
   "outputs": [],
   "source": []
  },
  {
   "cell_type": "code",
   "execution_count": null,
   "metadata": {},
   "outputs": [],
   "source": []
  }
 ],
 "metadata": {
  "kernelspec": {
   "display_name": "py2",
   "language": "python",
   "name": "py2"
  },
  "language_info": {
   "codemirror_mode": {
    "name": "ipython",
    "version": 2
   },
   "file_extension": ".py",
   "mimetype": "text/x-python",
   "name": "python",
   "nbconvert_exporter": "python",
   "pygments_lexer": "ipython2",
   "version": "2.7.10"
  }
 },
 "nbformat": 4,
 "nbformat_minor": 2
}
