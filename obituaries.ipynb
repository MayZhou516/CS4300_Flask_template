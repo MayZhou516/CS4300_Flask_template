{
 "cells": [
  {
   "cell_type": "code",
   "execution_count": 3,
   "metadata": {},
   "outputs": [],
   "source": [
    "'''Plan:\n",
    "\n",
    "Combine text files into 1 text file\n",
    "Run the code block below on that big text file\n",
    "Use delineations to break up into list of dict with {title: ___, text: ____}\n",
    "Change title to just person name using everything before comma/semicolon\n",
    "profit (covert to json)\n",
    "\n",
    "******* also keep downloading shit\n",
    "'''\n",
    "import re\n",
    "from titlecase import titlecase"
   ]
  },
  {
   "cell_type": "code",
   "execution_count": 17,
   "metadata": {},
   "outputs": [],
   "source": [
    "testfile = open(\"test.txt\", \"r\")\n",
    "\n",
    "text = testfile.read()\n",
    "\n",
    "# Removes doc --> article title\n",
    "text = re.sub(\n",
    "           r\"((\\d+ of \\d+ )(?=DOCUMENTS)((.*\\n){6}))\", \n",
    "           \"\\n\", text)\n",
    "\n",
    "# Removes byline if any\n",
    "text = re.sub(\n",
    "           r\"((?=BYLINE:)((.*\\n){2}))\", \n",
    "           \"\", text)\n",
    "# Removes section if any\n",
    "text = re.sub(\n",
    "           r\"((?=SECTION:)((.*\\n){2}))\", \n",
    "           \"\", text)\n",
    "# Remove length and delineate beginning of text\n",
    "text = re.sub(\n",
    "           r\"((?=LENGTH:)((.*\\n){3}))\", \n",
    "           \"~~~~~~~~~~~~~~~~~~~~~~~~~~~~~~~~~~~~~~\\n\", text)\n",
    "# Remove everything after main text and delineate end of document\n",
    "text = re.sub(\n",
    "           r\"LANGUAGE:([\\s\\S]*?)The New York Times Company\", \n",
    "           \"\\n%%%%%%%%%%%%%%%%%%%%%%%%%%%%%%%%%%%%\\n\", text)\n",
    "# Remove all that whitespace!\n",
    "text = re.sub(\n",
    "           r\"(\\n+)\", \n",
    "           \"\\n\", text)\n",
    "testfile.close()\n",
    "\n",
    "testfile = open(\"test.txt\", \"w\")\n",
    "testfile.write(text)\n",
    "testfile.close()"
   ]
  },
  {
   "cell_type": "code",
   "execution_count": 5,
   "metadata": {},
   "outputs": [],
   "source": [
    "d = []\n",
    "prev_line = \"\"\n",
    "text = \"\"\n",
    "summary = False\n",
    "#argh this is gonna be a little more complex\n",
    "with open(\"test.txt\") as f:\n",
    "    for line in f:\n",
    "        if line == \"~~~~~~~~~~~~~~~~~~~~~~~~~~~~~~~~~~~~~~\\n\":\n",
    "            summary = True # ? i think\n",
    "        else:\n",
    "            name = line.split(',', 1)[0].lower()\n",
    "            name = name.split(';', 1)[0]\n",
    "            name = name.split(' dies', 1)[0]\n",
    "            name = name.split('is dead', 1)[0]\n",
    "            name = name.split(' dead', 1)[0]\n",
    "            name = name.title()\n",
    "            \n",
    "        "
   ]
  },
  {
   "cell_type": "code",
   "execution_count": null,
   "metadata": {},
   "outputs": [],
   "source": []
  }
 ],
 "metadata": {
  "kernelspec": {
   "display_name": "venv",
   "language": "python",
   "name": "venv"
  },
  "language_info": {
   "codemirror_mode": {
    "name": "ipython",
    "version": 3
   },
   "file_extension": ".py",
   "mimetype": "text/x-python",
   "name": "python",
   "nbconvert_exporter": "python",
   "pygments_lexer": "ipython3",
   "version": "3.5.3"
  }
 },
 "nbformat": 4,
 "nbformat_minor": 2
}
