{
 "cells": [
  {
   "cell_type": "code",
   "execution_count": 1,
   "metadata": {},
   "outputs": [
    {
     "name": "stdout",
     "output_type": "stream",
     "text": [
      "Collecting spacy\n",
      "\u001b[33m  Cache entry deserialization failed, entry ignored\u001b[0m\n",
      "  Downloading https://files.pythonhosted.org/packages/3c/31/e60f88751e48851b002f78a35221d12300783d5a43d4ef12fbf10cca96c3/spacy-2.0.11.tar.gz (17.6MB)\n",
      "\u001b[K    100% |████████████████████████████████| 17.6MB 102kB/s eta 0:00:01\n",
      "\u001b[?25hRequirement already satisfied: numpy>=1.7 in /usr/local/lib/python3.6/site-packages (from spacy)\n",
      "Collecting murmurhash<0.29,>=0.28 (from spacy)\n",
      "\u001b[33m  Cache entry deserialization failed, entry ignored\u001b[0m\n",
      "  Downloading https://files.pythonhosted.org/packages/5e/31/c8c1ecafa44db30579c8c457ac7a0f819e8b1dbc3e58308394fff5ff9ba7/murmurhash-0.28.0.tar.gz\n",
      "Collecting cymem<1.32,>=1.30 (from spacy)\n",
      "\u001b[33m  Cache entry deserialization failed, entry ignored\u001b[0m\n",
      "  Downloading https://files.pythonhosted.org/packages/f8/9e/273fbea507de99166c11cd0cb3fde1ac01b5bc724d9a407a2f927ede91a1/cymem-1.31.2.tar.gz\n",
      "Collecting preshed<2.0.0,>=1.0.0 (from spacy)\n",
      "\u001b[33m  Cache entry deserialization failed, entry ignored\u001b[0m\n",
      "  Downloading https://files.pythonhosted.org/packages/1b/ac/7c17b1fd54b60972785b646d37da2826311cca70842c011c4ff84fbe95e0/preshed-1.0.0.tar.gz (89kB)\n",
      "\u001b[K    100% |████████████████████████████████| 92kB 7.9MB/s eta 0:00:01\n",
      "\u001b[?25hCollecting thinc<6.11.0,>=6.10.1 (from spacy)\n",
      "\u001b[33m  Cache entry deserialization failed, entry ignored\u001b[0m\n",
      "  Downloading https://files.pythonhosted.org/packages/55/fd/e9f36081e6f53699943381858848f3b4d759e0dd03c43b98807dde34c252/thinc-6.10.2.tar.gz (1.2MB)\n",
      "\u001b[K    100% |████████████████████████████████| 1.2MB 1.3MB/s eta 0:00:01\n",
      "\u001b[?25hCollecting plac<1.0.0,>=0.9.6 (from spacy)\n",
      "\u001b[33m  Cache entry deserialization failed, entry ignored\u001b[0m\n",
      "  Downloading https://files.pythonhosted.org/packages/9e/9b/62c60d2f5bc135d2aa1d8c8a86aaf84edb719a59c7f11a4316259e61a298/plac-0.9.6-py2.py3-none-any.whl\n",
      "Collecting pathlib (from spacy)\n",
      "\u001b[33m  Cache entry deserialization failed, entry ignored\u001b[0m\n",
      "  Downloading https://files.pythonhosted.org/packages/ac/aa/9b065a76b9af472437a0059f77e8f962fe350438b927cb80184c32f075eb/pathlib-1.0.1.tar.gz (49kB)\n",
      "\u001b[K    100% |████████████████████████████████| 51kB 7.1MB/s eta 0:00:01\n",
      "\u001b[?25hCollecting ujson>=1.35 (from spacy)\n",
      "\u001b[33m  Cache entry deserialization failed, entry ignored\u001b[0m\n",
      "  Downloading https://files.pythonhosted.org/packages/16/c4/79f3409bc710559015464e5f49b9879430d8f87498ecdc335899732e5377/ujson-1.35.tar.gz (192kB)\n",
      "\u001b[K    100% |████████████████████████████████| 194kB 5.4MB/s eta 0:00:01\n",
      "\u001b[?25hCollecting dill<0.3,>=0.2 (from spacy)\n",
      "\u001b[33m  Cache entry deserialization failed, entry ignored\u001b[0m\n",
      "  Downloading https://files.pythonhosted.org/packages/91/a0/19d4d31dee064fc553ae01263b5c55e7fb93daff03a69debbedee647c5a0/dill-0.2.7.1.tar.gz (64kB)\n",
      "\u001b[K    100% |████████████████████████████████| 71kB 7.5MB/s eta 0:00:01\n",
      "\u001b[?25hCollecting regex==2017.4.5 (from spacy)\n",
      "\u001b[33m  Cache entry deserialization failed, entry ignored\u001b[0m\n",
      "  Downloading https://files.pythonhosted.org/packages/36/62/c0c0d762ffd4ffaf39f372eb8561b8d491a11ace5a7884610424a8b40f95/regex-2017.04.05.tar.gz (601kB)\n",
      "\u001b[K    100% |████████████████████████████████| 604kB 2.4MB/s eta 0:00:01\n",
      "\u001b[?25hCollecting wrapt (from thinc<6.11.0,>=6.10.1->spacy)\n",
      "\u001b[33m  Cache entry deserialization failed, entry ignored\u001b[0m\n",
      "  Downloading https://files.pythonhosted.org/packages/a0/47/66897906448185fcb77fc3c2b1bc20ed0ecca81a0f2f88eda3fc5a34fc3d/wrapt-1.10.11.tar.gz\n",
      "Collecting tqdm<5.0.0,>=4.10.0 (from thinc<6.11.0,>=6.10.1->spacy)\n",
      "\u001b[33m  Cache entry deserialization failed, entry ignored\u001b[0m\n",
      "  Downloading https://files.pythonhosted.org/packages/c2/d4/bf1d99216672eef50392c009a8d0f282c4b643e4f764c962ff7b611ebce4/tqdm-4.23.1-py2.py3-none-any.whl (42kB)\n",
      "\u001b[K    100% |████████████████████████████████| 51kB 6.8MB/s eta 0:00:01\n",
      "\u001b[?25hCollecting cytoolz<0.9,>=0.8 (from thinc<6.11.0,>=6.10.1->spacy)\n",
      "\u001b[33m  Cache entry deserialization failed, entry ignored\u001b[0m\n",
      "  Downloading https://files.pythonhosted.org/packages/0f/e6/ccc124714dcc1bd511e64ddafb4d5d20ada2533b92e3173a4cf09e0d0831/cytoolz-0.8.2.tar.gz (386kB)\n",
      "\u001b[K    100% |████████████████████████████████| 389kB 3.4MB/s eta 0:00:01\n",
      "\u001b[?25hRequirement already satisfied: six<2.0.0,>=1.10.0 in /usr/local/lib/python3.6/site-packages (from thinc<6.11.0,>=6.10.1->spacy)\n",
      "Collecting termcolor (from thinc<6.11.0,>=6.10.1->spacy)\n",
      "\u001b[33m  Cache entry deserialization failed, entry ignored\u001b[0m\n",
      "  Downloading https://files.pythonhosted.org/packages/8a/48/a76be51647d0eb9f10e2a4511bf3ffb8cc1e6b14e9e4fab46173aa79f981/termcolor-1.1.0.tar.gz\n",
      "Collecting msgpack-python (from thinc<6.11.0,>=6.10.1->spacy)\n",
      "\u001b[33m  Cache entry deserialization failed, entry ignored\u001b[0m\n",
      "  Downloading https://files.pythonhosted.org/packages/8a/20/6eca772d1a5830336f84aca1d8198e5a3f4715cd1c7fc36d3cc7f7185091/msgpack-python-0.5.6.tar.gz (138kB)\n",
      "\u001b[K    100% |████████████████████████████████| 143kB 7.1MB/s eta 0:00:01\n",
      "\u001b[?25hCollecting msgpack-numpy==0.4.1 (from thinc<6.11.0,>=6.10.1->spacy)\n",
      "\u001b[33m  Cache entry deserialization failed, entry ignored\u001b[0m\n",
      "  Downloading https://files.pythonhosted.org/packages/2e/43/393e30e2768b0357541ac95891f96b80ccc4d517e0dd2fa3042fc8926538/msgpack_numpy-0.4.1-py2.py3-none-any.whl\n",
      "Collecting toolz>=0.8.0 (from cytoolz<0.9,>=0.8->thinc<6.11.0,>=6.10.1->spacy)\n",
      "\u001b[33m  Cache entry deserialization failed, entry ignored\u001b[0m\n",
      "  Downloading https://files.pythonhosted.org/packages/14/d0/a73c15bbeda3d2e7b381a36afb0d9cd770a9f4adc5d1532691013ba881db/toolz-0.9.0.tar.gz (45kB)\n",
      "\u001b[K    100% |████████████████████████████████| 51kB 9.8MB/s eta 0:00:01\n",
      "\u001b[?25hBuilding wheels for collected packages: spacy, murmurhash, cymem, preshed, thinc, pathlib, ujson, dill, regex, wrapt, cytoolz, termcolor, msgpack-python, toolz\n",
      "  Running setup.py bdist_wheel for spacy ... \u001b[?25ldone\n",
      "\u001b[?25h  Stored in directory: /Users/jericahuang/Library/Caches/pip/wheels/fb/00/28/75c85d5135e7d9a100639137d1847d41e914ed16c962d467e4\n",
      "  Running setup.py bdist_wheel for murmurhash ... \u001b[?25ldone\n",
      "\u001b[?25h  Stored in directory: /Users/jericahuang/Library/Caches/pip/wheels/b8/94/a4/f69f8664cdc1098603df44771b7fec5fd1b3d8364cdd83f512\n",
      "  Running setup.py bdist_wheel for cymem ... \u001b[?25ldone\n",
      "\u001b[?25h  Stored in directory: /Users/jericahuang/Library/Caches/pip/wheels/55/8d/4a/f6328252aa2aaec0b1cb906fd96a1566d77f0f67701071ad13\n",
      "  Running setup.py bdist_wheel for preshed ... \u001b[?25ldone\n",
      "\u001b[?25h  Stored in directory: /Users/jericahuang/Library/Caches/pip/wheels/8f/85/06/2d132fb649a6bbcab22487e4147880a55b0dd0f4b18fdfd6b5\n",
      "  Running setup.py bdist_wheel for thinc ... \u001b[?25ldone\n",
      "\u001b[?25h  Stored in directory: /Users/jericahuang/Library/Caches/pip/wheels/d8/5c/3e/9acf5d9974fb1c9e7b467563ea5429c9325f67306e93147961\n",
      "  Running setup.py bdist_wheel for pathlib ... \u001b[?25ldone\n",
      "\u001b[?25h  Stored in directory: /Users/jericahuang/Library/Caches/pip/wheels/f9/b2/4a/68efdfe5093638a9918bd1bb734af625526e849487200aa171\n",
      "  Running setup.py bdist_wheel for ujson ... \u001b[?25ldone\n",
      "\u001b[?25h  Stored in directory: /Users/jericahuang/Library/Caches/pip/wheels/28/77/e4/0311145b9c2e2f01470e744855131f9e34d6919687550f87d1\n",
      "  Running setup.py bdist_wheel for dill ... \u001b[?25ldone\n",
      "\u001b[?25h  Stored in directory: /Users/jericahuang/Library/Caches/pip/wheels/99/c4/ed/1b64d2d5809e60d5a3685530432f6159d6a9959739facb61f2\n",
      "  Running setup.py bdist_wheel for regex ... \u001b[?25ldone\n",
      "\u001b[?25h  Stored in directory: /Users/jericahuang/Library/Caches/pip/wheels/75/07/38/3c16b529d50cb4e0cd3dbc7b75cece8a09c132692c74450b01\n",
      "  Running setup.py bdist_wheel for wrapt ... \u001b[?25ldone\n",
      "\u001b[?25h  Stored in directory: /Users/jericahuang/Library/Caches/pip/wheels/48/5d/04/22361a593e70d23b1f7746d932802efe1f0e523376a74f321e\n",
      "  Running setup.py bdist_wheel for cytoolz ... \u001b[?25ldone\n",
      "\u001b[?25h  Stored in directory: /Users/jericahuang/Library/Caches/pip/wheels/f8/b1/86/c92e4d36b690208fff8471711b85eaa6bc6d19860a86199a09\n",
      "  Running setup.py bdist_wheel for termcolor ... \u001b[?25ldone\n",
      "\u001b[?25h  Stored in directory: /Users/jericahuang/Library/Caches/pip/wheels/7c/06/54/bc84598ba1daf8f970247f550b175aaaee85f68b4b0c5ab2c6\n",
      "  Running setup.py bdist_wheel for msgpack-python ... \u001b[?25ldone\n",
      "\u001b[?25h  Stored in directory: /Users/jericahuang/Library/Caches/pip/wheels/d5/de/86/7fa56fda12511be47ea0808f3502bc879df4e63ab168ec0406\n",
      "  Running setup.py bdist_wheel for toolz ... \u001b[?25ldone\n",
      "\u001b[?25h  Stored in directory: /Users/jericahuang/Library/Caches/pip/wheels/f4/0c/f6/ce6b2d1aa459ee97cc3c0f82236302bd62d89c86c700219463\n",
      "Successfully built spacy murmurhash cymem preshed thinc pathlib ujson dill regex wrapt cytoolz termcolor msgpack-python toolz\n",
      "Installing collected packages: murmurhash, cymem, preshed, wrapt, tqdm, toolz, cytoolz, plac, dill, termcolor, pathlib, msgpack-python, msgpack-numpy, thinc, ujson, regex, spacy\n",
      "Successfully installed cymem-1.31.2 cytoolz-0.8.2 dill-0.2.7.1 msgpack-numpy-0.4.1 msgpack-python-0.5.6 murmurhash-0.28.0 pathlib-1.0.1 plac-0.9.6 preshed-1.0.0 regex-2017.4.5 spacy-2.0.11 termcolor-1.1.0 thinc-6.10.2 toolz-0.9.0 tqdm-4.23.1 ujson-1.35 wrapt-1.10.11\n",
      "\u001b[33mYou are using pip version 9.0.1, however version 10.0.1 is available.\n",
      "You should consider upgrading via the 'pip install --upgrade pip' command.\u001b[0m\n",
      "Requirement already satisfied: nltk in /usr/local/lib/python3.6/site-packages\n",
      "Requirement already satisfied: six in /usr/local/lib/python3.6/site-packages (from nltk)\n",
      "\u001b[33mYou are using pip version 9.0.1, however version 10.0.1 is available.\n",
      "You should consider upgrading via the 'pip install --upgrade pip' command.\u001b[0m\n"
     ]
    }
   ],
   "source": [
    "import sys\n",
    "!{sys.executable} -m pip install spacy\n",
    "!{sys.executable} -m pip install nltk"
   ]
  },
  {
   "cell_type": "code",
   "execution_count": 2,
   "metadata": {},
   "outputs": [
    {
     "name": "stdout",
     "output_type": "stream",
     "text": [
      "[nltk_data] Downloading package stopwords to\n",
      "[nltk_data]     /Users/jericahuang/nltk_data...\n",
      "[nltk_data]   Package stopwords is already up-to-date!\n"
     ]
    }
   ],
   "source": [
    "# the imports used in A2\n",
    "import re\n",
    "# import json\n",
    "from glob import glob\n",
    "import os\n",
    "from io import StringIO\n",
    "from itertools import groupby\n",
    "import pickle\n",
    "\n",
    "import numpy as np\n",
    "# import bs4\n",
    "# %matplotlib inline\n",
    "# import matplotlib.pyplot as plt\n",
    "# Imports that might help with various functionality\n",
    "import functools\n",
    "import operator\n",
    "\n",
    "# Additional imports from A3\n",
    "from __future__ import print_function\n",
    "import math\n",
    "from collections import defaultdict\n",
    "# from nltk.tokenize import TreebankWordTokenizer\n",
    "# import Levenshtein  # package python-Levenshtein\n",
    "\n",
    "# Additional imports from A5\n",
    "import nltk\n",
    "# nltk.download()\n",
    "nltk.download('stopwords')\n",
    "from nltk.corpus import stopwords\n",
    "from nltk.tokenize import word_tokenize"
   ]
  },
  {
   "cell_type": "code",
   "execution_count": 3,
   "metadata": {},
   "outputs": [
    {
     "ename": "OSError",
     "evalue": "[E050] Can't find model 'en'. It doesn't seem to be a shortcut link, a Python package or a valid path to a data directory.",
     "output_type": "error",
     "traceback": [
      "\u001b[0;31m---------------------------------------------------------------------------\u001b[0m",
      "\u001b[0;31mOSError\u001b[0m                                   Traceback (most recent call last)",
      "\u001b[0;32m<ipython-input-3-b2f6e877ebb1>\u001b[0m in \u001b[0;36m<module>\u001b[0;34m()\u001b[0m\n\u001b[1;32m      1\u001b[0m \u001b[0;31m# SPACY package\u001b[0m\u001b[0;34m\u001b[0m\u001b[0;34m\u001b[0m\u001b[0m\n\u001b[1;32m      2\u001b[0m \u001b[0;32mimport\u001b[0m \u001b[0mspacy\u001b[0m\u001b[0;34m\u001b[0m\u001b[0m\n\u001b[0;32m----> 3\u001b[0;31m \u001b[0mnlp\u001b[0m \u001b[0;34m=\u001b[0m \u001b[0mspacy\u001b[0m\u001b[0;34m.\u001b[0m\u001b[0mload\u001b[0m\u001b[0;34m(\u001b[0m\u001b[0;34m'en'\u001b[0m\u001b[0;34m)\u001b[0m\u001b[0;34m\u001b[0m\u001b[0m\n\u001b[0m",
      "\u001b[0;32m/usr/local/Cellar/python3/3.6.4_2/Frameworks/Python.framework/Versions/3.6/lib/python3.6/site-packages/spacy/__init__.py\u001b[0m in \u001b[0;36mload\u001b[0;34m(name, **overrides)\u001b[0m\n\u001b[1;32m     13\u001b[0m     \u001b[0;32mif\u001b[0m \u001b[0mdepr_path\u001b[0m \u001b[0;32mnot\u001b[0m \u001b[0;32min\u001b[0m \u001b[0;34m(\u001b[0m\u001b[0;32mTrue\u001b[0m\u001b[0;34m,\u001b[0m \u001b[0;32mFalse\u001b[0m\u001b[0;34m,\u001b[0m \u001b[0;32mNone\u001b[0m\u001b[0;34m)\u001b[0m\u001b[0;34m:\u001b[0m\u001b[0;34m\u001b[0m\u001b[0m\n\u001b[1;32m     14\u001b[0m         \u001b[0mdeprecation_warning\u001b[0m\u001b[0;34m(\u001b[0m\u001b[0mWarnings\u001b[0m\u001b[0;34m.\u001b[0m\u001b[0mW001\u001b[0m\u001b[0;34m.\u001b[0m\u001b[0mformat\u001b[0m\u001b[0;34m(\u001b[0m\u001b[0mpath\u001b[0m\u001b[0;34m=\u001b[0m\u001b[0mdepr_path\u001b[0m\u001b[0;34m)\u001b[0m\u001b[0;34m)\u001b[0m\u001b[0;34m\u001b[0m\u001b[0m\n\u001b[0;32m---> 15\u001b[0;31m     \u001b[0;32mreturn\u001b[0m \u001b[0mutil\u001b[0m\u001b[0;34m.\u001b[0m\u001b[0mload_model\u001b[0m\u001b[0;34m(\u001b[0m\u001b[0mname\u001b[0m\u001b[0;34m,\u001b[0m \u001b[0;34m**\u001b[0m\u001b[0moverrides\u001b[0m\u001b[0;34m)\u001b[0m\u001b[0;34m\u001b[0m\u001b[0m\n\u001b[0m\u001b[1;32m     16\u001b[0m \u001b[0;34m\u001b[0m\u001b[0m\n\u001b[1;32m     17\u001b[0m \u001b[0;34m\u001b[0m\u001b[0m\n",
      "\u001b[0;32m/usr/local/Cellar/python3/3.6.4_2/Frameworks/Python.framework/Versions/3.6/lib/python3.6/site-packages/spacy/util.py\u001b[0m in \u001b[0;36mload_model\u001b[0;34m(name, **overrides)\u001b[0m\n\u001b[1;32m    117\u001b[0m     \u001b[0;32melif\u001b[0m \u001b[0mhasattr\u001b[0m\u001b[0;34m(\u001b[0m\u001b[0mname\u001b[0m\u001b[0;34m,\u001b[0m \u001b[0;34m'exists'\u001b[0m\u001b[0;34m)\u001b[0m\u001b[0;34m:\u001b[0m  \u001b[0;31m# Path or Path-like to model data\u001b[0m\u001b[0;34m\u001b[0m\u001b[0m\n\u001b[1;32m    118\u001b[0m         \u001b[0;32mreturn\u001b[0m \u001b[0mload_model_from_path\u001b[0m\u001b[0;34m(\u001b[0m\u001b[0mname\u001b[0m\u001b[0;34m,\u001b[0m \u001b[0;34m**\u001b[0m\u001b[0moverrides\u001b[0m\u001b[0;34m)\u001b[0m\u001b[0;34m\u001b[0m\u001b[0m\n\u001b[0;32m--> 119\u001b[0;31m     \u001b[0;32mraise\u001b[0m \u001b[0mIOError\u001b[0m\u001b[0;34m(\u001b[0m\u001b[0mErrors\u001b[0m\u001b[0;34m.\u001b[0m\u001b[0mE050\u001b[0m\u001b[0;34m.\u001b[0m\u001b[0mformat\u001b[0m\u001b[0;34m(\u001b[0m\u001b[0mname\u001b[0m\u001b[0;34m=\u001b[0m\u001b[0mname\u001b[0m\u001b[0;34m)\u001b[0m\u001b[0;34m)\u001b[0m\u001b[0;34m\u001b[0m\u001b[0m\n\u001b[0m\u001b[1;32m    120\u001b[0m \u001b[0;34m\u001b[0m\u001b[0m\n\u001b[1;32m    121\u001b[0m \u001b[0;34m\u001b[0m\u001b[0m\n",
      "\u001b[0;31mOSError\u001b[0m: [E050] Can't find model 'en'. It doesn't seem to be a shortcut link, a Python package or a valid path to a data directory."
     ]
    }
   ],
   "source": [
    "# SPACY package\n",
    "import spacy\n",
    "nlp = spacy.load('en')"
   ]
  },
  {
   "cell_type": "markdown",
   "metadata": {},
   "source": [
    "# Import Dataset"
   ]
  },
  {
   "cell_type": "code",
   "execution_count": 9,
   "metadata": {},
   "outputs": [
    {
     "name": "stdout",
     "output_type": "stream",
     "text": [
      "Each woman's entry is a dictionary with the following keys...\n",
      "dict_keys(['summary', 'views', 'name'])\n"
     ]
    }
   ],
   "source": [
    "# import the json\n",
    "import json\n",
    "with open(\"data3.json\", \"r\") as f:\n",
    "    women_summaries = json.load(f)\n",
    "    \n",
    "# PEGAH (From A5)\n",
    "print(\"Each woman's entry is a dictionary with the following keys...\")\n",
    "print(women_summaries[0].keys())\n",
    "\n",
    "deduped_women_summaries = {}\n",
    "for woman in women_summaries:\n",
    "    if woman['name'] not in deduped_women_summaries:\n",
    "        deduped_women_summaries[woman['name']] = woman['summary']\n",
    "    else:\n",
    "        deduped_women_summaries[woman['name']] += \"\\n\" + woman['summary']"
   ]
  },
  {
   "cell_type": "code",
   "execution_count": 3,
   "metadata": {},
   "outputs": [],
   "source": [
    "# REMOVED FROM SPACY VERSION\n",
    "# creates a list of women to keep as a global variable\n",
    "# women_names = list()\n",
    "# for i in range(len(women_summaries)):\n",
    "#     name = women_summaries[i]['name']\n",
    "#     end_index = name.find('(')\n",
    "#     if end_index != -1 and name[: (end_index-1)] not in women_names :\n",
    "#         women_names.append(name[: (end_index-1)])\n",
    "#     elif end_index == -1 and name not in women_names :\n",
    "#         women_names.append(name)\n",
    "        \n",
    "# # print(women_names)\n",
    "# #women_names is a list of the names of women in order of the JSON file"
   ]
  },
  {
   "cell_type": "markdown",
   "metadata": {},
   "source": [
    "# Deduplicate"
   ]
  },
  {
   "cell_type": "code",
   "execution_count": 11,
   "metadata": {},
   "outputs": [],
   "source": [
    "deduped_women = [{'summary': summary, 'name': name} for (name, summary) in list(deduped_women_summaries.items())]\n",
    "pickle.dump(deduped_women, open( \"deduped_women.pickle\", \"wb\" ), protocol=2)"
   ]
  },
  {
   "cell_type": "markdown",
   "metadata": {},
   "source": [
    "# Spacy Dictionary (Commented out for now)"
   ]
  },
  {
   "cell_type": "code",
   "execution_count": 5,
   "metadata": {},
   "outputs": [],
   "source": [
    "from __future__ import unicode_literals"
   ]
  },
  {
   "cell_type": "code",
   "execution_count": 6,
   "metadata": {},
   "outputs": [],
   "source": [
    "# # Builds a dictionary that maps woman to the list of tokens associated with her\n",
    "# # {'woman1' : ['token1', 'token2', ... 'tokenn']}\n",
    "# from __future__ import unicode_literals\n",
    "\n",
    "# def build_spacy_token_dictionary(input_summaries, input_women_names):\n",
    "#     # Builds a dictionary that maps each woman to their tokenized words (yes we've already done this but we want the spacy version)\n",
    "#     women_token_dictionary = dict()\n",
    "    \n",
    "#     for i in range(len(input_women_names)):\n",
    "#         name = input_women_names[i]\n",
    "#         summary = input_summaries[i]['summary']\n",
    "    \n",
    "#         index_was = summary.find('was ')\n",
    "#         index_is = summary.find('is ')\n",
    "#         index_currently = summary.find('currently ')\n",
    "#         if (index_was == -1 and index_is == -1):\n",
    "#             summary2 = summary[index_currently:]\n",
    "#         elif (index_was == -1 and index_currently == -1):\n",
    "#             summary2 = summary[index_is:]\n",
    "#         elif (index_is == -1 and index_currently == -1):\n",
    "#             summary2 = summary[index_was:]\n",
    "#         else :\n",
    "#             index_min = min(index_is, index_was)\n",
    "#             summary2 = summary[index_min:]\n",
    "            \n",
    "#         # lowercase long string of summary\n",
    "#         summary_lower = summary2.lower()\n",
    "#         # doc object type\n",
    "#         summary_nlp = nlp(summary_lower)\n",
    "#         # type list\n",
    "#         summary_list = [token.text for token in summary_nlp]\n",
    "#         # type list, but without stop words\n",
    "#         summary_token_filtered = [w for w in summary_list if w not in stopwords.words('english')]\n",
    "        \n",
    "#         # convert to a string separated by spaces\n",
    "#         summary_str = \" \".join(summary_token_filtered) \n",
    "#         summary_nlp = nlp(summary_str)\n",
    "#         women_token_dictionary[name] = summary_nlp\n",
    "    \n",
    "# #     print(women_token_dictionary)\n",
    "#     return women_token_dictionary"
   ]
  },
  {
   "cell_type": "code",
   "execution_count": 7,
   "metadata": {},
   "outputs": [],
   "source": [
    "# COMMENTED OUT BECAUSE TOKENIZER DOES THIS\n",
    "# women_token_dictionary = build_spacy_token_dictionary(women_summaries, women_names)\n",
    "# # print(women_token_dictionary)"
   ]
  },
  {
   "cell_type": "markdown",
   "metadata": {},
   "source": [
    "# TF-IDF Vectorizer\n",
    "#### Includes pickling the vectorizer and the TF-IDF matrix"
   ]
  },
  {
   "cell_type": "code",
   "execution_count": 8,
   "metadata": {},
   "outputs": [
    {
     "name": "stderr",
     "output_type": "stream",
     "text": [
      "/usr/local/Cellar/python3/3.6.4_2/Frameworks/Python.framework/Versions/3.6/lib/python3.6/site-packages/sklearn/feature_extraction/text.py:1039: FutureWarning: Conversion of the second argument of issubdtype from `float` to `np.floating` is deprecated. In future, it will be treated as `np.float64 == np.dtype(float).type`.\n",
      "  if hasattr(X, 'dtype') and np.issubdtype(X.dtype, np.float):\n"
     ]
    }
   ],
   "source": [
    "from sklearn.feature_extraction.text import TfidfVectorizer\n",
    "vectorizer = TfidfVectorizer(stop_words=\"english\", min_df = 10, max_df = 0.95)\n",
    "matx = vectorizer.fit_transform(map(lambda x: x[\"summary\"], deduped_women))\n",
    "\n",
    "import pickle\n",
    "with open(\"myvectorizer.pickle\", \"wb+\") as f:\n",
    "    pickle.dump(vectorizer, f, protocol=2)\n",
    "    pickle.dump(matx, f, protocol=2)"
   ]
  },
  {
   "cell_type": "markdown",
   "metadata": {},
   "source": [
    "# Cosine Similarity"
   ]
  },
  {
   "cell_type": "code",
   "execution_count": 13,
   "metadata": {},
   "outputs": [],
   "source": [
    "# query = \"is a mother\"\n",
    "# q_vec = vectorizer.transform([query])\n",
    "# sim_doc_scores = cosine_similarity(q_vec, matx)\n",
    "# # apply weighting here\n",
    "# # print(sum(sim_doc_scores.flatten()))\n",
    "# sim_docs = np.argsort(sim_doc_scores.flatten())[::-1]\n",
    "# # sim_docs\n",
    "\n",
    "# JUST KIDDING!! WE DO THIS IN THE FUNCTION BELOW"
   ]
  },
  {
   "cell_type": "markdown",
   "metadata": {},
   "source": [
    "# Spacy Similarity Matrix"
   ]
  },
  {
   "cell_type": "code",
   "execution_count": 14,
   "metadata": {},
   "outputs": [],
   "source": [
    "def build_sim_matrix(input_token_dictionary, input_len_names, input_women_names):\n",
    "    # Builds matrix using spacy that stores each woman's cosine similarity to each other\n",
    "    \n",
    "    sim_matrix = np.zeros(shape = (input_len_names, input_len_names))\n",
    "    \n",
    "    for woman1 in input_token_dictionary:\n",
    "        for woman2 in input_token_dictionary:\n",
    "            woman1_index = input_women_names.index(woman1)\n",
    "            woman2_index = input_women_names.index(woman2)\n",
    "#             print(input_token_dictionary[woman1])\n",
    "#             print(input_token_dictionary[woman2])\n",
    "            sim_matrix[woman1_index][woman2_index] = input_token_dictionary[woman1].similarity(input_token_dictionary[woman2])\n",
    "    np.fill_diagonal(sim_matrix, 0)\n",
    "    \n",
    "    return sim_matrix\n",
    "        "
   ]
  },
  {
   "cell_type": "code",
   "execution_count": 15,
   "metadata": {},
   "outputs": [
    {
     "ename": "NameError",
     "evalue": "name 'women_token_dictionary' is not defined",
     "output_type": "error",
     "traceback": [
      "\u001b[0;31m---------------------------------------------------------------------------\u001b[0m",
      "\u001b[0;31mNameError\u001b[0m                                 Traceback (most recent call last)",
      "\u001b[0;32m<ipython-input-15-5ea196c8feaf>\u001b[0m in \u001b[0;36m<module>\u001b[0;34m()\u001b[0m\n\u001b[0;32m----> 1\u001b[0;31m \u001b[0mwomen2women_cosine_sim_matrix\u001b[0m \u001b[0;34m=\u001b[0m \u001b[0mbuild_sim_matrix\u001b[0m\u001b[0;34m(\u001b[0m\u001b[0mwomen_token_dictionary\u001b[0m\u001b[0;34m,\u001b[0m \u001b[0mlen\u001b[0m\u001b[0;34m(\u001b[0m\u001b[0mwomen_names\u001b[0m\u001b[0;34m)\u001b[0m\u001b[0;34m,\u001b[0m \u001b[0mwomen_names\u001b[0m\u001b[0;34m)\u001b[0m\u001b[0;34m\u001b[0m\u001b[0m\n\u001b[0m",
      "\u001b[0;31mNameError\u001b[0m: name 'women_token_dictionary' is not defined"
     ]
    }
   ],
   "source": [
    "women2women_cosine_sim_matrix = build_sim_matrix(women_token_dictionary, len(women_names), women_names)\n"
   ]
  },
  {
   "cell_type": "code",
   "execution_count": 29,
   "metadata": {},
   "outputs": [
    {
     "ename": "TypeError",
     "evalue": "'NoneType' object has no attribute '__getitem__'",
     "output_type": "error",
     "traceback": [
      "\u001b[0;31m---------------------------------------------------------------------------\u001b[0m",
      "\u001b[0;31mTypeError\u001b[0m                                 Traceback (most recent call last)",
      "\u001b[0;32m<ipython-input-29-474713b69a8c>\u001b[0m in \u001b[0;36m<module>\u001b[0;34m()\u001b[0m\n\u001b[0;32m----> 1\u001b[0;31m \u001b[0;32mprint\u001b[0m\u001b[0;34m(\u001b[0m\u001b[0mwomen2women_cosine_sim_matrix\u001b[0m\u001b[0;34m[\u001b[0m\u001b[0;36m1\u001b[0m\u001b[0;34m]\u001b[0m\u001b[0;34m[\u001b[0m\u001b[0;36m0\u001b[0m\u001b[0;34m]\u001b[0m\u001b[0;34m)\u001b[0m\u001b[0;34m\u001b[0m\u001b[0m\n\u001b[0m",
      "\u001b[0;31mTypeError\u001b[0m: 'NoneType' object has no attribute '__getitem__'"
     ]
    }
   ],
   "source": [
    "# print(women2women_cosine_sim_matrix[1][0])"
   ]
  },
  {
   "cell_type": "code",
   "execution_count": 25,
   "metadata": {},
   "outputs": [],
   "source": [
    "import operator\n",
    "\n",
    "# Code taken from A5\n",
    "def get_ranked_women(input_woman, input_sim_matrix, input_women_names) :\n",
    "#     print(input_sim_matrix)\n",
    "    '''Return sorted rankings (most to least similar) of women as \n",
    "        a list of two-element tuples, where the first element is the \n",
    "        woman's name and the second element is the similarity score\n",
    "    '''\n",
    "    \n",
    "    # Get index from woman's name\n",
    "    idx = input_women_names.index(input_woman)\n",
    "    \n",
    "    # Get list of similarity scores for woman\n",
    "    score_lst = input_sim_matrix[idx]\n",
    "    women_score_lst = [(input_women_names.index(index), s) for index, score in enumerate(score_lst)]\n",
    "    \n",
    "    # Do not account for woman herself in ranking\n",
    "    women_score_lst = women_score_lst[:idx] + women_score_lst[idx+1:]\n",
    "    \n",
    "    # Sort rankings by score (most similar to least similar)\n",
    "    women_score_lst = sorted(women_score_lst, key=lambda x: -x[1])\n",
    "    \n",
    "    # Only returning top 5!\n",
    "    return women_score_lst[:5]"
   ]
  },
  {
   "cell_type": "code",
   "execution_count": 26,
   "metadata": {},
   "outputs": [],
   "source": [
    "# Builds a 'top 5 most similar' list of woman for every woman\n",
    "def create_top_5_dict_women(input_sim_mat, num_women, input_women_names):\n",
    "    women_top5 = {}\n",
    "    \n",
    "    # Loop through each woman\n",
    "    for woman in range(num_women):\n",
    "        similarity_list = get_ranked_women(input_women_names[woman], input_sim_mat, input_women_names)\n",
    "        women_top5[input_women_names[woman]] = similarity_list\n",
    "        \n",
    "    return women_top5\n",
    "            "
   ]
  },
  {
   "cell_type": "code",
   "execution_count": 10,
   "metadata": {},
   "outputs": [
    {
     "ename": "NameError",
     "evalue": "name 'create_top_5_dict_women' is not defined",
     "output_type": "error",
     "traceback": [
      "\u001b[0;31m---------------------------------------------------------------------------\u001b[0m",
      "\u001b[0;31mNameError\u001b[0m                                 Traceback (most recent call last)",
      "\u001b[0;32m<ipython-input-10-345ab7766bd9>\u001b[0m in \u001b[0;36m<module>\u001b[0;34m()\u001b[0m\n\u001b[0;32m----> 1\u001b[0;31m \u001b[0mtop5_dict_women2women\u001b[0m \u001b[0;34m=\u001b[0m \u001b[0mcreate_top_5_dict_women\u001b[0m\u001b[0;34m(\u001b[0m\u001b[0mwomen2women_cosine_sim_matrix\u001b[0m\u001b[0;34m,\u001b[0m \u001b[0mlen\u001b[0m\u001b[0;34m(\u001b[0m\u001b[0mwomen_names\u001b[0m\u001b[0;34m)\u001b[0m\u001b[0;34m,\u001b[0m \u001b[0mwomen_names\u001b[0m\u001b[0;34m)\u001b[0m\u001b[0;34m\u001b[0m\u001b[0m\n\u001b[0m\u001b[1;32m      2\u001b[0m \u001b[0;31m# print(top5_dict_women2women)\u001b[0m\u001b[0;34m\u001b[0m\u001b[0;34m\u001b[0m\u001b[0m\n",
      "\u001b[0;31mNameError\u001b[0m: name 'create_top_5_dict_women' is not defined"
     ]
    }
   ],
   "source": [
    "top5_dict_women2women = create_top_5_dict_women(women2women_cosine_sim_matrix, len(women_names), women_names)\n",
    "# print(top5_dict_women2women)"
   ]
  },
  {
   "cell_type": "markdown",
   "metadata": {},
   "source": [
    "# Query output for Spacy (Commented out for now)"
   ]
  },
  {
   "cell_type": "code",
   "execution_count": 11,
   "metadata": {},
   "outputs": [],
   "source": [
    "# SPACY OUTPUT RETURN -- commented out for now\n",
    "# def return_query(input_query, input_women_token_dictionary):\n",
    "#     # Given a query string, this function will return a list of women that are most similar to the query\n",
    "    \n",
    "#     query = nlp(input_query)\n",
    "#     results = [] # List that will eventually store name, similarity, popularity, and ultimate RANKING\n",
    "    \n",
    "#     # Ranking will be defined by: (1/popularity) + (0.5*similarity) + entity weighting\n",
    "    \n",
    "#     for woman in input_women_token_dictionary:\n",
    "#         similarity = query.similarity(input_women_token_dictionary[woman])\n",
    "#         if similarity > 0.2: # Arbitrary number, can play around with with\n",
    "#             results.append((woman, similarity, similarity)) # Currently similarity will act as the ranking\n",
    "            \n",
    "#     results.sort(key=lambda x: x[2]) # Ascending order of rankings\n",
    "#     results.reverse() # Descending order"
   ]
  },
  {
   "cell_type": "markdown",
   "metadata": {},
   "source": [
    "# Query output for Cossim"
   ]
  },
  {
   "cell_type": "code",
   "execution_count": 18,
   "metadata": {},
   "outputs": [],
   "source": [
    "from sklearn.metrics.pairwise import cosine_similarity\n",
    "import numpy as np\n",
    "import pickle\n",
    "\n",
    "# Load from the pickle\n",
    "pkl_file = open('myvectorizer.pickle', 'rb')\n",
    "vectorizer = pickle.load(pkl_file)\n",
    "matx = pickle.load(pkl_file)\n",
    "\n",
    "def return_query(vectorizer, matx, query, data_dict):\n",
    "    q_vec = vectorizer.transform([query])\n",
    "    sim_doc_scores = cosine_similarity(q_vec, matx)\n",
    "#     print(sim_doc_scores)\n",
    "    # Apply weighting here!\n",
    "    sim_docs = np.argsort(sim_doc_scores.flatten())[::-1]\n",
    "    \n",
    "    return_docs = []\n",
    "    for hit in sim_docs[0:30]:\n",
    "        return_docs.append(data_dict[hit])\n",
    "#     print(len(return_docs))\n",
    "    return return_docs"
   ]
  },
  {
   "cell_type": "code",
   "execution_count": 19,
   "metadata": {},
   "outputs": [
    {
     "name": "stderr",
     "output_type": "stream",
     "text": [
      "/usr/local/Cellar/python3/3.6.4_2/Frameworks/Python.framework/Versions/3.6/lib/python3.6/site-packages/sklearn/feature_extraction/text.py:1039: FutureWarning: Conversion of the second argument of issubdtype from `float` to `np.floating` is deprecated. In future, it will be treated as `np.float64 == np.dtype(float).type`.\n",
      "  if hasattr(X, 'dtype') and np.issubdtype(X.dtype, np.float):\n"
     ]
    },
    {
     "data": {
      "text/plain": [
       "[{'name': 'Sandra Saouaf',\n",
       "  'summary': 'Sandra Saouaf is an American immunologist who researches autoimmune diseases, such as rheumatoid arthritis, type 1 diabetes, multiple sclerosis and others.'},\n",
       " {'name': 'Angela Hartley Brodie',\n",
       "  'summary': 'Angela Hartley Brodie (28 September 1934 – 7 June 2017) was a British biochemist who pioneered development of steroidal aromatase inhibitors in cancer research. Born in Greater Manchester, Brodie studied chemical pathology to a doctoral level in Sheffield and was awarded a fellowship sponsored by National Institutes of Health. After 17 years of working in Shrewsbury, Massachusetts on oral contraceptives with Harry Brodie, whom she married, she switched focus to the effects of the oestrogen-producing enzyme, aromatase, on breast cancer.\\nBrodie managed to get an aromatase inhibitor into a limited clinical trial in breast cancer patients in London, which had such a profound effect that it led to Novartis-sponsored trials, the development of formestane, the first aromatase inhibitor, eventually marketed in 1994. Brodie\\'s work has been hailed \"as among the most important contributions to cancer cure.\"'},\n",
       " {'name': 'Jane E. Parker',\n",
       "  'summary': 'Jane Elizabeth Parker (born 1960) is a British scientist who researches the immune responses of plants at the Max Planck Institute for Plant Breeding Research.'},\n",
       " {'name': 'Lisette de Pillis',\n",
       "  'summary': 'Lisette G. de Pillis is an American mathematician who works as chair of the department of mathematics at Harvey Mudd College and holds the Norman F. Sprague, Jr. Professorship of Life Sciences at Harvey Mudd. She is also the co-director of the Harvey Mudd College Center for Quantitative Life Sciences.\\nDe Pillis earned her Ph.D. in 1993 from the University of California, Los Angeles under the supervision of Heinz-Otto Kreiss. The Argonne National Laboratory named her their Maria Goeppert-Mayer Argonne Distinguished Scholar for 1999–2000.\\nHer early research concerned computational fluid dynamics. In around 2000, she became interested in cancer immunology, and began doing research on population models featuring cells of three types: normal cells, cancer cells, and immune cells. By augmenting the model to include cancer treatments and applying control theory, she was able to devise techniques that could lead to more effective personalized treatments for cancer.\\nIn 2015 she was elected as a fellow of the American Mathematical Society.\\n\\n'},\n",
       " {'name': 'Katherine Sanford',\n",
       "  'summary': \"Katherine Koontz Sanford (July 19, 1915 – September 12, 2005), also known as Katherine Sanford Mifflin, was an American biologist and cancer researcher who worked at the National Cancer Institute for nearly 50 years, serving as head of Laboratory of Cellular and Molecular Biology. In the 1940s she became the first person to successfully clone a mammalian cell in vitro, which allowed for more efficient means of creating pure strains of cells for study. She also developed the first laboratory test to distinguish people with Alzheimer's disease and people predisposed to cancer.\"},\n",
       " {'name': 'Sarah Spiegel',\n",
       "  'summary': 'Sarah Spiegel is Professor and Chair of the Department of Biochemistry and Molecular Biology at Virginia Commonwealth University (VCU). In the mid-1990s she discovered the sphingosine-1-phosphate molecule, a lipid which has been identified as a signaler for the spread of cancer, inflammation, and cardiovascular disease. She runs the Spiegel-Milstien Lab, which studies S1P, at VCU, and is also director of the VCU Massey Cancer Center in Richmond, Virginia.'},\n",
       " {'name': 'Lubna Tahtamouni',\n",
       "  'summary': \"Lubna Hamid Tawfiq Tahtamouni (Arabic: لبنى تهتموني\\u200e) is a Jordanian biologist known for her work in developmental biology and cancer research. She is the head of the Department of Biology and Biotechnology at Hashemite University in Zarqa, Jordan. She won multiple awards for her work on breast cancer, and is known as an advocate for allowing young women in the Arab world to choose a career in science. In 2016, she was named one of BBC's 100 Women.\"},\n",
       " {'name': 'Zena Werb',\n",
       "  'summary': 'Zena Werb (born 1945) is a professor and the Vice Chair of Anatomy at the University of California, San Francisco. She is also the co-leader of the Cancer, Immunity, and Microenvironment Program at the Hellen Diller Family Comprehensive Cancer Center and a member of the Executive Committee of the Sabre-Sandler Asthma Basic Research Center at UCSF. Her research focuses on features of the microenvironment surrounding cells, with particular interest in the extracellular matrix and the role of its protease enzymes in cell signaling.'},\n",
       " {'name': 'Lesley Fallowfield',\n",
       "  'summary': \"Professor Dame Lesley Jean Fallowfield DBE (born October 1949) is a British cancer psychologist and a professor of psycho-oncology at the University of Sussex. The main outcomes of her research have been the establishment of assessment tools to measure quality of life in clinical trials of cancer patients and the design of educational programmes to improve oncologists' communication with their patients.\"},\n",
       " {'name': 'Jean Finnegan',\n",
       "  'summary': \"Elizabeth Jean Finnegan FAA is an Australian botanist who researches plant flowering processes and epigenetic regulation in plants. She currently works at the CSIRO as a senior scientist where she leads research on the 'Control of Floral Initiation', part of the CSIRO Agriculture Flagship (formerly known as CSIRO Plant Industry)\"},\n",
       " {'name': 'Kamal Ranadive',\n",
       "  'summary': \"Kamal Ranadive, née Kamal Jayasing Ranadive (8 November 1917 – 2001) was an Indian biomedical researcher who is known for her research in cancer in studying the links between cancers and viruses. She was a founder member of the Indian Women Scientists' Association (IWSA).\\nIn the 1960s, she established India's first tissue culture research laboratory at the Indian Cancer Research Centre in Mumbai.\"},\n",
       " {'name': 'Talithia Williams',\n",
       "  'summary': 'Talithia Williams is an American statistician and mathematician at Harvey Mudd College who researches the spatiotemporal structure of data. She was the first black woman to achieve tenure at Harvey Mudd College. Williams is an advocate for engaging more African Americans in engineering and science.\\n\\n'},\n",
       " {'name': 'Linda M. Hunt',\n",
       "  'summary': 'Linda M. Hunt is medical professor especializing in Medical anthropology at Michigan State University. She teaches and researches on Medical Anthropology, Minority Health Research and Research Methods in Cultural Anthropology. She has been researching issues related to racial profiling, among others.'},\n",
       " {'name': 'Kathleen I. Pritchard',\n",
       "  'summary': \"Kathleen I. Pritchard,  is the head of oncology at Sunnybrook Health Sciences Centre in Toronto, Canada, specializing in breast cancer therapies, and leading the clinical trials division of the centre. She has authored numerous studies on women's health, breast cancer, hormone replacement therapy, public health, and research methodology. According to Thomson Reuters, Pritchard was one of the most cited researchers in the world in 2014 and 2015.\\nKathleen I. Pritchard,  is the head of oncology at Sunnybrook Health Sciences Centre in Toronto, Canada, specializing in breast cancer therapies, and leading the clinical trials division of the centre. She has authored numerous studies on women's health, breast cancer, hormone replacement therapy, public health, and research methodology. According to Thomson Reuters, Pritchard was one of the most cited researchers in the world in 2014 and 2015.\"},\n",
       " {'name': 'Roxana Moslehi',\n",
       "  'summary': 'Roxana Moslehi is a genetic epidemiologist.\\nMost of her research is dedicated to the study of cancer and cancer precursors. Born in Iran and raised in Canada, she is currently an associate professor [15] in Epidemiology and Biostatistics at the University at Albany, State University of New York (SUNY), where she has been teaching multiple courses, including those she developed in genetic and molecular epidemiology. Through her research she has been contributing to the understanding of hereditary causes of diseases as well as the influence of gene-environment interactions on the risk of developing disease.'},\n",
       " {'name': 'Naomi McClure-Griffiths',\n",
       "  'summary': \"Naomi McClure-Griffiths (born July 11, 1975) is an American astrophysicist and radio astronomer who researches and lives in Australia. In 2004, she discovered a new spiral arm in the Milky Way galaxy. She was awarded the Prime Minister's Malcolm McIntosh Prize for Physical Scientist in 2006 and in 2015 was honored for her research in physics by receipt of the Pawsey Medal from the Australian Academy of Science.\"},\n",
       " {'name': 'Karen Vousden',\n",
       "  'summary': 'Professor Karen Heather Vousden, CBE, FRS, FRSE, FMedSci (born 19 July 1957) is a British medical researcher. She is known for her work on the tumour suppressor protein, p53, and in particular her discovery of the important regulatory role of Mdm2, an attractive target for anti-cancer agents. From 2003 to 2016, she was the director of the Cancer Research UK Beatson Institute in Glasgow, UK, moving back to London in 2016 to take up the role of Chief Scientist at CRUK and Group Leader at the Francis Crick Institute.'},\n",
       " {'name': 'Hua Eleanor Yu',\n",
       "  'summary': \"Hua Eleanor Yu is the inaugural Billy and Audrey L. Wilder Professor in tumor immunotherapy at the Beckman Research Institute of the City of Hope National Medical Center in Duarte, California. In addition, she co-leads the Cancer Immunotherapeutics Program at the City of Hope cancer center, with Dr. Peter P. Lee. Dr. Yu's laboratory was the first to identify STAT3, a protein that helps to protect tumor cells from the immune system. Her group is developing possible drug treatments using CpG-Stat3 siRNA to attack tumor cells in mice and humans.\"},\n",
       " {'name': 'Petra Wilder-Smith',\n",
       "  'summary': 'Petra Elfrida Erna Beate Wilder-Smith (May 16, 1958- ) is a professor and director of dentistry at the Beckman Laser Institute at the University of California, Irvine, and a fellow of the Chao Family Comprehensive Cancer Center at the University of California, Irvine. She is a visiting professor at Aachen University (Germany); and a visiting lecturer at Loma Linda University. Wilder-Smith specializes in the use of light and optics in tracking and treating oral cancer. She has developed innovative noninvasive laser technology used to examine and treat mouth lesions.'},\n",
       " {'name': 'Emily Grossman',\n",
       "  'summary': \"Emily Grossman is a science communicator and populariser, as of 2015 is a resident expert on The Alan Titchmarsh Show, and has been a panelist on the Sky1 television show Duck Quacks Don't Echo. She has a PhD in cancer research, with expertise in molecular biology and genetics. She has hosted events and given lectures at a number of institutions including the Royal Academy, the Royal Statistical Society, the Royal College of Physicians in Edinburgh, Scotland and various museums, both on science topics as well as advocating the encouragement of women in science. While based at the Paterson Institute for Cancer Research, she discovered a new molecule.\"},\n",
       " {'name': 'Rachel Webster',\n",
       "  'summary': 'Rachel Webster (born 3 July 1951) is an Australian astrophysicist who became the second female professor of physics in Australia. Her main focus areas are extragalactic astronomy and cosmology; she researches black holes and the first stars of the universe. Webster has a doctoral degree from Cambridge University and has held postdoctoral positions at the University of Toronto and University of Melbourne.'},\n",
       " {'name': 'Beatrice Mintz',\n",
       "  'summary': 'Beatrice Mintz (born January 24, 1921 in New York City) is an American embryologist who has contributed to the understanding of genetic modification, cellular differentiation and cancer, particularly melanoma.\\nMintz was a pioneer of genetic engineering techniques, and was among the first scientists to generate both chimeric and transgenic mammals. In 1996 she shared the inaugural March of Dimes Prize in Developmental Biology with Ralph L. Brinster for their work in developing transgenic mice. Much of her career has been spent at the Fox Chase Cancer Center in Philadelphia where, in 2002, she was named to the Jack Schultz Chair in Basic Science. Mintz is a member of both the United States National Academy of Sciences and the Pontifical Academy of Sciences.'},\n",
       " {'name': 'Maria Abbracchio',\n",
       "  'summary': \"Maria Pia Abbracchio is an Italian pharmacologist who researches the biochemical effect of drugs at the cellular level. She has conducted research all over the world and is one of the scientists Thomson Reuter's has named as most cited scientists since 2006. She is known for her work with purinergic receptors and identification of GPR17. In 2014 she was awarded the Order of Merit of the Italian Republic for her individual scientific accomplishments.\"},\n",
       " {'name': 'Mina J. Bissell',\n",
       "  'summary': \"Mina J. Bissell is an Iranian-American biologist known for her research on breast cancer. In particular, she has studied the effects of a cell's microenvironment, including its extracellular matrix, on tissue function.\"},\n",
       " {'name': 'Mayly Sánchez',\n",
       "  'summary': 'Mayly Sánchez is a Venezuelan-born particle physicist who researches at Iowa State University. In 2011, she was awarded the Presidential Early Career Awards for Scientists and Engineers (PECASE), the highest honor given by the United States to beginning scientists, who are in the early stages of their research careers. In 2013, she was named by the BBC as one of the top ten women scientists in Latin America.'},\n",
       " {'name': 'Elisa Oricchio',\n",
       "  'summary': 'Elisa Oricchio (born 1979) is an Italian cancer researcher who discovered that EphA7 activates the tumor suppressor gene for patients with follicular lymphoma. She was awarded the Lorini Foundation Award and Blavatnik Award for Young Scientists for her discovery.'},\n",
       " {'name': 'Helen Dyer',\n",
       "  'summary': 'Helen M. Dyer (May 26, 1895 – September 20, 1998) was an American biochemist and cancer researcher. Her main work concerned the mechanism of carcinogenesis; she also worked with metabolism and nutrition.'},\n",
       " {'name': 'Sara Murray Jordan',\n",
       "  'summary': 'Sara Murray Jordan (October 20, 1884 – November 21, 1959) was an American gastroenterologist and former president of the American Gastroenterological Association. She practiced largely in Boston and specialized in peptic ulcer disease and gastric cancer.'},\n",
       " {'name': 'Alice S. Whittemore',\n",
       "  'summary': 'Alice Segers Whittemore is an American epidemiologist and biostatistician who studies the effects of genetics and lifestyle on cancer, after an earlier career as a pure mathematician studying group theory. She works as a professor of health research and policy and of biomedical data science at Stanford University, and has served as president of the International Biometric Society.'},\n",
       " {'name': 'Suzanne Cory',\n",
       "  'summary': 'Suzanne Cory, AC, FAA, FRS (born 11 March 1942) is a distinguished Australian molecular biologist. She has worked on the genetics of the immune system and cancer and has lobbied her country to invest in science. She is married to fellow scientist Professor Jerry Adams, also a WEHI scientist, whom she met while studying for her PhD at the University of Cambridge, England.'}]"
      ]
     },
     "execution_count": 19,
     "metadata": {},
     "output_type": "execute_result"
    }
   ],
   "source": [
    "return_query(vectorizer, matx, \"researches cancer\", deduped_women)"
   ]
  },
  {
   "cell_type": "code",
   "execution_count": null,
   "metadata": {},
   "outputs": [],
   "source": []
  }
 ],
 "metadata": {
  "kernelspec": {
   "display_name": "venv",
   "language": "python",
   "name": "venv"
  },
  "language_info": {
   "codemirror_mode": {
    "name": "ipython",
    "version": 3
   },
   "file_extension": ".py",
   "mimetype": "text/x-python",
   "name": "python",
   "nbconvert_exporter": "python",
   "pygments_lexer": "ipython3",
   "version": "3.6.4"
  }
 },
 "nbformat": 4,
 "nbformat_minor": 2
}
