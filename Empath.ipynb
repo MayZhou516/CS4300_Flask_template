{
 "cells": [
  {
   "cell_type": "markdown",
   "metadata": {},
   "source": [
    "Notes:\n",
    "- nltk: stop words package that's already implemented\n",
    "- Built-in similarity function for spacy, needs to be called on an nlp-type version of a string object\n",
    "- Spacy type objects & dont want to tokenize things\n",
    "- texty (TF-IDF vectorizer and spacy had a baby)"
   ]
  },
  {
   "cell_type": "code",
   "execution_count": 1,
   "metadata": {},
   "outputs": [
    {
     "name": "stdout",
     "output_type": "stream",
     "text": [
      "Requirement already satisfied: spacy in /usr/local/lib/python2.7/site-packages\n",
      "Requirement already satisfied: dill<0.3,>=0.2 in /usr/local/lib/python2.7/site-packages (from spacy)\n",
      "Requirement already satisfied: numpy>=1.7 in /usr/local/lib/python2.7/site-packages (from spacy)\n",
      "Requirement already satisfied: murmurhash<0.29,>=0.28 in /usr/local/lib/python2.7/site-packages (from spacy)\n",
      "Requirement already satisfied: preshed<2.0.0,>=1.0.0 in /usr/local/lib/python2.7/site-packages (from spacy)\n",
      "Requirement already satisfied: pathlib in /usr/local/lib/python2.7/site-packages (from spacy)\n",
      "Requirement already satisfied: thinc<6.11.0,>=6.10.1 in /usr/local/lib/python2.7/site-packages (from spacy)\n",
      "Requirement already satisfied: cymem<1.32,>=1.30 in /usr/local/lib/python2.7/site-packages (from spacy)\n",
      "Requirement already satisfied: regex==2017.4.5 in /usr/local/lib/python2.7/site-packages (from spacy)\n",
      "Requirement already satisfied: ujson>=1.35 in /usr/local/lib/python2.7/site-packages (from spacy)\n",
      "Requirement already satisfied: plac<1.0.0,>=0.9.6 in /usr/local/lib/python2.7/site-packages (from spacy)\n",
      "Requirement already satisfied: cytoolz<0.9,>=0.8 in /usr/local/lib/python2.7/site-packages (from thinc<6.11.0,>=6.10.1->spacy)\n",
      "Requirement already satisfied: msgpack-numpy==0.4.1 in /usr/local/lib/python2.7/site-packages (from thinc<6.11.0,>=6.10.1->spacy)\n",
      "Requirement already satisfied: wrapt in /usr/local/lib/python2.7/site-packages (from thinc<6.11.0,>=6.10.1->spacy)\n",
      "Requirement already satisfied: six<2.0.0,>=1.10.0 in /usr/local/lib/python2.7/site-packages (from thinc<6.11.0,>=6.10.1->spacy)\n",
      "Requirement already satisfied: tqdm<5.0.0,>=4.10.0 in /usr/local/lib/python2.7/site-packages (from thinc<6.11.0,>=6.10.1->spacy)\n",
      "Requirement already satisfied: msgpack-python in /usr/local/lib/python2.7/site-packages (from thinc<6.11.0,>=6.10.1->spacy)\n",
      "Requirement already satisfied: termcolor in /usr/local/lib/python2.7/site-packages (from thinc<6.11.0,>=6.10.1->spacy)\n",
      "Requirement already satisfied: toolz>=0.8.0 in /usr/local/lib/python2.7/site-packages (from cytoolz<0.9,>=0.8->thinc<6.11.0,>=6.10.1->spacy)\n",
      "\u001b[33mYou are using pip version 9.0.3, however version 10.0.1 is available.\n",
      "You should consider upgrading via the 'pip install --upgrade pip' command.\u001b[0m\n",
      "Requirement already satisfied: nltk in /usr/local/lib/python2.7/site-packages\n",
      "Requirement already satisfied: six in /usr/local/lib/python2.7/site-packages (from nltk)\n",
      "\u001b[33mYou are using pip version 9.0.3, however version 10.0.1 is available.\n",
      "You should consider upgrading via the 'pip install --upgrade pip' command.\u001b[0m\n"
     ]
    }
   ],
   "source": [
    "import sys\n",
    "!{sys.executable} -m pip install spacy\n",
    "!{sys.executable} -m pip install nltk"
   ]
  },
  {
   "cell_type": "code",
   "execution_count": 2,
   "metadata": {},
   "outputs": [
    {
     "name": "stdout",
     "output_type": "stream",
     "text": [
      "[nltk_data] Downloading package stopwords to /Users/Pegah/nltk_data...\n",
      "[nltk_data]   Package stopwords is already up-to-date!\n"
     ]
    }
   ],
   "source": [
    "# the imports used in A2\n",
    "import re\n",
    "# import json\n",
    "from glob import glob\n",
    "import os\n",
    "from io import StringIO\n",
    "from itertools import groupby\n",
    "import pickle\n",
    "\n",
    "import numpy as np\n",
    "# import bs4\n",
    "# %matplotlib inline\n",
    "# import matplotlib.pyplot as plt\n",
    "# Imports that might help with various functionality\n",
    "import functools\n",
    "import operator\n",
    "\n",
    "# Additional imports from A3\n",
    "from __future__ import print_function\n",
    "import math\n",
    "from collections import defaultdict\n",
    "# from nltk.tokenize import TreebankWordTokenizer\n",
    "# import Levenshtein  # package python-Levenshtein\n",
    "\n",
    "# Additional imports from A5\n",
    "import nltk\n",
    "# nltk.download()\n",
    "nltk.download('stopwords')\n",
    "from nltk.corpus import stopwords\n",
    "from nltk.tokenize import word_tokenize\n",
    "\n",
    "from sklearn.metrics.pairwise import cosine_similarity\n",
    "import numpy as np\n",
    "import cPickle"
   ]
  },
  {
   "cell_type": "code",
   "execution_count": 3,
   "metadata": {},
   "outputs": [],
   "source": [
    "# SPACY package\n",
    "import spacy\n",
    "# nlp = spacy.load('en')\n",
    "nlp = spacy.load('en_core_web_lg')"
   ]
  },
  {
   "cell_type": "markdown",
   "metadata": {},
   "source": [
    "# Import Dataset"
   ]
  },
  {
   "cell_type": "code",
   "execution_count": 4,
   "metadata": {},
   "outputs": [
    {
     "name": "stdout",
     "output_type": "stream",
     "text": [
      "Each woman's entry is a dictionary with the following keys...\n",
      "[u'views', u'name', u'summary']\n"
     ]
    }
   ],
   "source": [
    "# import the json\n",
    "import json\n",
    "with open(\"data3.json\", \"r\") as f:\n",
    "    women_summaries = json.load(f)\n",
    "    \n",
    "# PEGAH (From A5)\n",
    "print(\"Each woman's entry is a dictionary with the following keys...\")\n",
    "print(women_summaries[0].keys())\n",
    "\n",
    "deduped_women_summaries = {}\n",
    "for woman in women_summaries:\n",
    "    if woman['name'] not in deduped_women_summaries:\n",
    "        deduped_women_summaries[woman['name']] = woman['summary']\n",
    "    else:\n",
    "        deduped_women_summaries[woman['name']] += \"\\n\" + woman['summary']"
   ]
  },
  {
   "cell_type": "code",
   "execution_count": 5,
   "metadata": {},
   "outputs": [],
   "source": [
    "# REMOVED FROM SPACY VERSION\n",
    "# creates a list of women to keep as a global variable\n",
    "women_names = list()\n",
    "for i in range(len(women_summaries)):\n",
    "    name = women_summaries[i]['name']\n",
    "    end_index = name.find('(')\n",
    "    if end_index != -1 and name[: (end_index-1)] not in women_names :\n",
    "        women_names.append(name[: (end_index-1)])\n",
    "    elif end_index == -1 and name not in women_names :\n",
    "        women_names.append(name)\n",
    "        \n",
    "# print(women_names)\n",
    "# women_names is a list of the names of women in order of the JSON file"
   ]
  },
  {
   "cell_type": "markdown",
   "metadata": {},
   "source": [
    "# Deduplicate"
   ]
  },
  {
   "cell_type": "code",
   "execution_count": 6,
   "metadata": {},
   "outputs": [],
   "source": [
    "deduped_women = [{'summary': summary, 'name': name} for (name, summary) in list(deduped_women_summaries.items())]"
   ]
  },
  {
   "cell_type": "markdown",
   "metadata": {},
   "source": [
    "# Spacy Dictionary (Commented out for now)"
   ]
  },
  {
   "cell_type": "code",
   "execution_count": 7,
   "metadata": {},
   "outputs": [],
   "source": [
    "from __future__ import unicode_literals"
   ]
  },
  {
   "cell_type": "code",
   "execution_count": 8,
   "metadata": {},
   "outputs": [],
   "source": [
    "# # Builds a dictionary that maps woman to the list of tokens associated with her\n",
    "# # {'woman1' : ['token1', 'token2', ... 'tokenn']}\n",
    "# from __future__ import unicode_literals\n",
    "\n",
    "# def build_spacy_token_dictionary(input_summaries, input_women_names):\n",
    "#     # Builds a dictionary that maps each woman to their tokenized words (yes we've already done this but we want the spacy version)\n",
    "#     women_token_dictionary = dict()\n",
    "    \n",
    "#     for i in range(len(input_women_names)):\n",
    "#         name = input_women_names[i]\n",
    "#         summary = input_summaries[i]['summary']\n",
    "    \n",
    "#         index_was = summary.find('was ')\n",
    "#         index_is = summary.find('is ')\n",
    "#         index_currently = summary.find('currently ')\n",
    "#         if (index_was == -1 and index_is == -1):\n",
    "#             summary2 = summary[index_currently:]\n",
    "#         elif (index_was == -1 and index_currently == -1):\n",
    "#             summary2 = summary[index_is:]\n",
    "#         elif (index_is == -1 and index_currently == -1):\n",
    "#             summary2 = summary[index_was:]\n",
    "#         else :\n",
    "#             index_min = min(index_is, index_was)\n",
    "#             summary2 = summary[index_min:]\n",
    "            \n",
    "#         # lowercase long string of summary\n",
    "#         summary_lower = summary2.lower()\n",
    "#         # doc object type\n",
    "#         summary_nlp = nlp(summary_lower)\n",
    "#         # type list\n",
    "#         summary_list = [token.text for token in summary_nlp]\n",
    "#         # type list, but without stop words\n",
    "#         summary_token_filtered = [w for w in summary_list if w not in stopwords.words('english')]\n",
    "        \n",
    "#         # convert to a string separated by spaces\n",
    "#         summary_str = \" \".join(summary_token_filtered) \n",
    "#         summary_nlp = nlp(summary_str)\n",
    "#         women_token_dictionary[name] = summary_nlp\n",
    "    \n",
    "# #     print(women_token_dictionary)\n",
    "#     return women_token_dictionary"
   ]
  },
  {
   "cell_type": "code",
   "execution_count": 8,
   "metadata": {},
   "outputs": [],
   "source": [
    "# # COMMENTED OUT BECAUSE TOKENIZER DOES THIS\n",
    "# women_token_dictionary = build_spacy_token_dictionary(women_summaries, women_names)\n",
    "# # # print(women_token_dictionary)"
   ]
  },
  {
   "cell_type": "markdown",
   "metadata": {},
   "source": [
    "# TF-IDF Vectorizer\n",
    "#### Includes pickling the vectorizer and the TF-IDF matrix"
   ]
  },
  {
   "cell_type": "code",
   "execution_count": 28,
   "metadata": {},
   "outputs": [],
   "source": [
    "from sklearn.feature_extraction.text import TfidfVectorizer\n",
    "vectorizer = TfidfVectorizer(stop_words=\"english\", max_df = 0.95)\n",
    "matx = vectorizer.fit_transform(map(lambda x: x[\"summary\"], deduped_women))\n",
    "\n",
    "import pickle\n",
    "with open(\"myvectorizer.pickle\", \"wb+\") as f:\n",
    "    pickle.dump(vectorizer, f)\n",
    "    pickle.dump(matx, f)"
   ]
  },
  {
   "cell_type": "markdown",
   "metadata": {},
   "source": [
    "# Cosine Similarity"
   ]
  },
  {
   "cell_type": "code",
   "execution_count": 10,
   "metadata": {},
   "outputs": [],
   "source": [
    "# query = \"is a mother\"\n",
    "# q_vec = vectorizer.transform([query])\n",
    "# sim_doc_scores = cosine_similarity(q_vec, matx)\n",
    "# # apply weighting here\n",
    "# # print(sum(sim_doc_scores.flatten()))\n",
    "# sim_docs = np.argsort(sim_doc_scores.flatten())[::-1]\n",
    "# # sim_docs\n",
    "\n",
    "# JUST KIDDING!! WE DO THIS IN THE FUNCTION BELOW"
   ]
  },
  {
   "cell_type": "markdown",
   "metadata": {},
   "source": [
    "# Spacy Similarity Matrix"
   ]
  },
  {
   "cell_type": "code",
   "execution_count": 11,
   "metadata": {},
   "outputs": [],
   "source": [
    "def build_sim_matrix(input_token_dictionary, input_len_names, input_women_names):\n",
    "    # Builds matrix using spacy that stores each woman's cosine similarity to each other\n",
    "    \n",
    "    sim_matrix = np.zeros(shape = (input_len_names, input_len_names))\n",
    "    \n",
    "    for woman1 in input_token_dictionary:\n",
    "        for woman2 in input_token_dictionary:\n",
    "            woman1_index = input_women_names.index(woman1)\n",
    "            woman2_index = input_women_names.index(woman2)\n",
    "#             print(input_token_dictionary[woman1])\n",
    "#             print(input_token_dictionary[woman2])\n",
    "            sim_matrix[woman1_index][woman2_index] = input_token_dictionary[woman1].similarity(input_token_dictionary[woman2])\n",
    "    np.fill_diagonal(sim_matrix, 0)\n",
    "    \n",
    "    return sim_matrix\n",
    "        "
   ]
  },
  {
   "cell_type": "code",
   "execution_count": 12,
   "metadata": {},
   "outputs": [
    {
     "ename": "NameError",
     "evalue": "name 'women_token_dictionary' is not defined",
     "output_type": "error",
     "traceback": [
      "\u001b[0;31m---------------------------------------------------------------------------\u001b[0m",
      "\u001b[0;31mNameError\u001b[0m                                 Traceback (most recent call last)",
      "\u001b[0;32m<ipython-input-12-5ea196c8feaf>\u001b[0m in \u001b[0;36m<module>\u001b[0;34m()\u001b[0m\n\u001b[0;32m----> 1\u001b[0;31m \u001b[0mwomen2women_cosine_sim_matrix\u001b[0m \u001b[0;34m=\u001b[0m \u001b[0mbuild_sim_matrix\u001b[0m\u001b[0;34m(\u001b[0m\u001b[0mwomen_token_dictionary\u001b[0m\u001b[0;34m,\u001b[0m \u001b[0mlen\u001b[0m\u001b[0;34m(\u001b[0m\u001b[0mwomen_names\u001b[0m\u001b[0;34m)\u001b[0m\u001b[0;34m,\u001b[0m \u001b[0mwomen_names\u001b[0m\u001b[0;34m)\u001b[0m\u001b[0;34m\u001b[0m\u001b[0m\n\u001b[0m",
      "\u001b[0;31mNameError\u001b[0m: name 'women_token_dictionary' is not defined"
     ]
    }
   ],
   "source": [
    "women2women_cosine_sim_matrix = build_sim_matrix(women_token_dictionary, len(women_names), women_names)\n"
   ]
  },
  {
   "cell_type": "code",
   "execution_count": 13,
   "metadata": {},
   "outputs": [],
   "source": [
    "# print(women2women_cosine_sim_matrix[1][0])"
   ]
  },
  {
   "cell_type": "code",
   "execution_count": 14,
   "metadata": {},
   "outputs": [],
   "source": [
    "import operator\n",
    "\n",
    "# Code taken from A5\n",
    "def get_ranked_women(input_woman, input_sim_matrix, input_women_names) :\n",
    "#     print(input_sim_matrix)\n",
    "    '''Return sorted rankings (most to least similar) of women as \n",
    "        a list of two-element tuples, where the first element is the \n",
    "        woman's name and the second element is the similarity score\n",
    "    '''\n",
    "    \n",
    "    # Get index from woman's name\n",
    "    idx = input_women_names.index(input_woman)\n",
    "    \n",
    "    # Get list of similarity scores for woman\n",
    "    score_lst = input_sim_matrix[idx]\n",
    "    women_score_lst = [(input_women_names.index(index), s) for index, score in enumerate(score_lst)]\n",
    "    \n",
    "    # Do not account for woman herself in ranking\n",
    "    women_score_lst = women_score_lst[:idx] + women_score_lst[idx+1:]\n",
    "    \n",
    "    # Sort rankings by score (most similar to least similar)\n",
    "    women_score_lst = sorted(women_score_lst, key=lambda x: -x[1])\n",
    "    \n",
    "    # Only returning top 5!\n",
    "    return women_score_lst[:5]"
   ]
  },
  {
   "cell_type": "code",
   "execution_count": 15,
   "metadata": {},
   "outputs": [],
   "source": [
    "# Builds a 'top 5 most similar' list of woman for every woman\n",
    "def create_top_5_dict_women(input_sim_mat, num_women, input_women_names):\n",
    "    women_top5 = {}\n",
    "    \n",
    "    # Loop through each woman\n",
    "    for woman in range(num_women):\n",
    "        similarity_list = get_ranked_women(input_women_names[woman], input_sim_mat, input_women_names)\n",
    "        women_top5[input_women_names[woman]] = similarity_list\n",
    "        \n",
    "    return women_top5\n",
    "            "
   ]
  },
  {
   "cell_type": "code",
   "execution_count": 16,
   "metadata": {},
   "outputs": [
    {
     "ename": "NameError",
     "evalue": "name 'women2women_cosine_sim_matrix' is not defined",
     "output_type": "error",
     "traceback": [
      "\u001b[0;31m---------------------------------------------------------------------------\u001b[0m",
      "\u001b[0;31mNameError\u001b[0m                                 Traceback (most recent call last)",
      "\u001b[0;32m<ipython-input-16-345ab7766bd9>\u001b[0m in \u001b[0;36m<module>\u001b[0;34m()\u001b[0m\n\u001b[0;32m----> 1\u001b[0;31m \u001b[0mtop5_dict_women2women\u001b[0m \u001b[0;34m=\u001b[0m \u001b[0mcreate_top_5_dict_women\u001b[0m\u001b[0;34m(\u001b[0m\u001b[0mwomen2women_cosine_sim_matrix\u001b[0m\u001b[0;34m,\u001b[0m \u001b[0mlen\u001b[0m\u001b[0;34m(\u001b[0m\u001b[0mwomen_names\u001b[0m\u001b[0;34m)\u001b[0m\u001b[0;34m,\u001b[0m \u001b[0mwomen_names\u001b[0m\u001b[0;34m)\u001b[0m\u001b[0;34m\u001b[0m\u001b[0m\n\u001b[0m\u001b[1;32m      2\u001b[0m \u001b[0;31m# print(top5_dict_women2women)\u001b[0m\u001b[0;34m\u001b[0m\u001b[0;34m\u001b[0m\u001b[0m\n",
      "\u001b[0;31mNameError\u001b[0m: name 'women2women_cosine_sim_matrix' is not defined"
     ]
    }
   ],
   "source": [
    "top5_dict_women2women = create_top_5_dict_women(women2women_cosine_sim_matrix, len(women_names), women_names)\n",
    "# print(top5_dict_women2women)"
   ]
  },
  {
   "cell_type": "markdown",
   "metadata": {},
   "source": [
    "# Query output for Spacy (Commented out for now)"
   ]
  },
  {
   "cell_type": "code",
   "execution_count": 17,
   "metadata": {},
   "outputs": [],
   "source": [
    "# SPACY OUTPUT RETURN -- commented out for now\n",
    "# def return_query(input_query, input_women_token_dictionary):\n",
    "#     # Given a query string, this function will return a list of women that are most similar to the query\n",
    "    \n",
    "#     query = nlp(input_query)\n",
    "#     results = [] # List that will eventually store name, similarity, popularity, and ultimate RANKING\n",
    "    \n",
    "#     # Ranking will be defined by: (1/popularity) + (0.5*similarity) + entity weighting\n",
    "    \n",
    "#     for woman in input_women_token_dictionary:\n",
    "#         similarity = query.similarity(input_women_token_dictionary[woman])\n",
    "#         if similarity > 0.2: # Arbitrary number, can play around with with\n",
    "#             results.append((woman, similarity, similarity)) # Currently similarity will act as the ranking\n",
    "            \n",
    "#     results.sort(key=lambda x: x[2]) # Ascending order of rankings\n",
    "#     results.reverse() # Descending order"
   ]
  },
  {
   "cell_type": "markdown",
   "metadata": {},
   "source": [
    "# Query output for Cossim"
   ]
  },
  {
   "cell_type": "code",
   "execution_count": 67,
   "metadata": {},
   "outputs": [],
   "source": [
    "from sklearn.metrics.pairwise import cosine_similarity\n",
    "import numpy as np\n",
    "import pickle\n",
    "\n",
    "# Load from the pickle\n",
    "pkl_file = open('myvectorizer.pickle', 'rb')\n",
    "vectorizer = pickle.load(pkl_file)\n",
    "matx = pickle.load(pkl_file)\n",
    "\n",
    "def return_query(vectorizer, matx, query, data_dict):\n",
    "    q_vec = vectorizer.transform([query])\n",
    "    sim_doc_scores = cosine_similarity(q_vec, matx)\n",
    "#     print(sim_doc_scores)\n",
    "    # Apply weighting here!\n",
    "    sim_docs = np.argsort(sim_doc_scores.flatten())[::-1]\n",
    "    return_docs = []\n",
    "\n",
    "    for hit in sim_docs:\n",
    "        if sim_doc_scores[0][hit] > 0:\n",
    "#             print(sim_doc_scores[0][hit])\n",
    "            return_docs.append(data_dict[hit])\n",
    "    if len(return_docs)>30:\n",
    "        return_docs = return_docs[:30]\n",
    "    return return_docs"
   ]
  },
  {
   "cell_type": "code",
   "execution_count": 75,
   "metadata": {},
   "outputs": [
    {
     "data": {
      "text/plain": [
       "[{'name': u'Germaine Tillion',\n",
       "  'summary': u'Germaine Tillion (30 May 1907 \\u2013 18 April 2008) was a French ethnologist, best known for her work in Algeria in the 1950s on behalf of the French government. A member of the French resistance, she spent time in the Ravensbr\\xfcck concentration camp.'},\n",
       " {'name': u'Valerie Mizrahi',\n",
       "  'summary': u'Valerie Mizrahi (born 1958) is a South African molecular biologist.'},\n",
       " {'name': u'Lucie Randoin',\n",
       "  'summary': u'Lucie Gabrielle Randoin (11 May 1888 \\u2013 13 September 1960) was a French biologist, nutritionist, and hygienist. She was made a commander of the Legion of Honour in 1958 and is known for her research on vitamins.'},\n",
       " {'name': u'Yvonne Choquet-Bruhat',\n",
       "  'summary': u'Yvonne Choquet-Bruhat (French: [b\\u0281y.a]; born 29 December 1923 in Lille) is a French mathematician and physicist. She was the first woman to be elected to the Acad\\xe9mie des Sciences Fran\\xe7aise (\"French Academy of Sciences\") and is a Grand Officier of the L\\xe9gion d\\'honneur.\\n\\n'},\n",
       " {'name': u'Diana Marcela Bola\\xf1os Rodriguez',\n",
       "  'summary': u\"Diana Marcela Bola\\xf1os Rodr\\xedguez (born September 24 1981) is a marine biologist from Colombia, who has studied and classified various types of platyhelminths. She was a recipient of the L'Or\\xe9al-UNESCO Fellowship for Women in Science in 2010, was selected as Colombian biologist of the year in 2012, and in 2013 was named by the BBC as one of the top ten women in science in Latin America.\\nDiana Marcela Bola\\xf1os Rodr\\xedguez (born September 24 1981) is a marine biologist from Colombia, who has studied and classified various types of platyhelminths. She was a recipient of the L'Or\\xe9al-UNESCO Fellowship for Women in Science in 2010, was selected as Colombian biologist of the year in 2012, and in 2013 was named by the BBC as one of the top ten women in science in Latin America.\"},\n",
       " {'name': u'Laurence Tubiana',\n",
       "  'summary': u'Laurence Tubiana (born 1951) is a French economist and diplomat. She was appointed French ambassador for international climate negotiations in connection with the 2015 COP21 Climate Change Conference in Paris. She founded and has headed the Paris-based Institute of Sustainable Development and International Relations (IDDRI), is a professor at the Paris high-level education institute, Sciences Po, and has previously served as senior adviser on the environment to the former French Prime Minister Lionel Jospin. She has been responsible for conducting international environmental negotiations for the French government and has also been a member of the Economic Analysis Council (Conseil d\\u2019analyse \\xe9conomique) attached to the French Prime Minister\\u2019s office.'},\n",
       " {'name': u'Nicole Berline',\n",
       "  'summary': u'Nicole Berline (born 1944) is a French mathematician.'},\n",
       " {'name': u'Guillemette Andreu',\n",
       "  'summary': u'Guillemette Andreu-Lano\\xeb (born August 3, 1948 in Paris), is a French Egyptologist and archaeologist. A former member of the French Institute of Oriental Archaeology of Cairo, she has been a curator and director of the Department of Egyptian Antiquities of the Louvre Museum since May 2007.'},\n",
       " {'name': u'Gertrude Van Wagenen',\n",
       "  'summary': u'Gertrude L. Van Wagenen (1893 \\u2013 February 8, 1978) was an American biologist. She was also a collector of anatomical illustrations and models.'},\n",
       " {'name': u'Margarete Zuelzer',\n",
       "  'summary': u'Margarete Hedwig Zuelzer (2 February 1877 \\u2013 29 August 1943) was a German biologist and zoologist specializing in the study of protozoa.'},\n",
       " {'name': u'Reidun Twarock',\n",
       "  'summary': u'Reidun Twarock is a German-born mathematical biologist at the University of York. She is known for developing mathematical models of viruses based on higher-dimensional lattices.'},\n",
       " {'name': u'Nathalie Luca',\n",
       "  'summary': u'Nathalie Luca (born 1966) is a French research director at the French National Centre for Scientific Research (CNRS), an anthropologist and a sociologist of religions. She is deputy director of the Center for Interdisciplinary Studies of Religious Facts at the \\xc9cole des hautes \\xe9tudes en sciences sociales and co-editor-in-chief of the French review Archives de sciences sociales des religions with Pierre Lassave.\\nShe was a member of the French government agency monitoring and combatting cultic deviances MIVILUDES from March 2003 to November 2005. She resigned on the ground that she refused to participate in a predictable hardening of policy of this organization.\\nShe wrote many books on groups she defined as \"cults\" and is regularly interviewed in the media, and by anti-cult organizations on this issue. She said she is not in favour of the establishment of a list of cults.'},\n",
       " {'name': u'Cl\\xe9mence Royer',\n",
       "  'summary': u\"Cl\\xe9mence Royer (21 April 1830 \\u2013 6 February 1902) was a self-taught French scholar who lectured and wrote on economics, philosophy, science and feminism. She is best known for her controversial 1862 French translation of Charles Darwin's On the Origin of Species.\"},\n",
       " {'name': u'Claire Voisin',\n",
       "  'summary': u'Claire Voisin (born 4 March 1962) is a French mathematician known for her work in algebraic geometry.'},\n",
       " {'name': u'Coralie Colmez',\n",
       "  'summary': u'Coralie Colmez is a French mathematician, tutor and author.'},\n",
       " {'name': u'C\\xe9cile DeWitt-Morette',\n",
       "  'summary': u'C\\xe9cile Andr\\xe9e Paule DeWitt-Morette (21 December 1922 \\u2013 8 May 2017) was a French mathematician and physicist. She founded a summer school at Les Houches in the French Alps. For this and her publications, she was awarded the American Society of the French Legion of Honour 2007 Medal for Distinguished Achievement. Attendees at the summer school included over twenty students who would go on to be Nobel Prize winners, including Pierre-Gilles de Gennes, Georges Charpak, and Claude Cohen-Tannoudji, who identify the school for assisting in their success.'},\n",
       " {'name': u'Kathrine S. French',\n",
       "  'summary': u'Kathrine Story (\"Kay\") French (June 5, 1922 \\u2013 June 14, 2006) was an American anthropologist born in Illinois. Educated in California, she studied ceremonialism and naming practices on the Warm Springs Indian Reservation in the state of Oregon. She was married to fellow anthropologist David H. French.'},\n",
       " {'name': u'Mary Buckland',\n",
       "  'summary': u'Mary Morland Buckland (20 November 1797 \\u2013 30 November 1857) was a British palaeontologist, marine biologist and scientific illustrator.'},\n",
       " {'name': u'L\\xfacia Mendon\\xe7a Previato',\n",
       "  'summary': u\"L\\xfacia Mendon\\xe7a Previato (born 1949) is a Brazilian biologist. She was awarded the L'Or\\xe9al-UNESCO Awards for Women in Science in 2004 for her research into preventing Chagas disease.\"},\n",
       " {'name': u'Mariel V\\xe1zquez',\n",
       "  'summary': u'Mariel V\\xe1zquez is a Mexican mathematical biologist who specializes in the topology of DNA. She is a professor at the University of California, Davis, jointly affiliated with the departments of mathematics and of microbiology and molecular genetics.'},\n",
       " {'name': u'Mina J. Bissell',\n",
       "  'summary': u\"Mina J. Bissell is an Iranian-American biologist known for her research on breast cancer. In particular, she has studied the effects of a cell's microenvironment, including its extracellular matrix, on tissue function.\"},\n",
       " {'name': u'Anny Cazenave',\n",
       "  'summary': u\"Anny Cazenave (French pronunciation: [ani kaznav] ( listen)) is a French space geodesist and one of the pioneers in satellite altimetry. She works for the French space agency CNES and has been deputy director of the Laboratoire d'Etudes en Geophysique et Oceanographie Spatiale (LEGOS) at Observatoire Midi-Pyr\\xe9n\\xe9es in Toulouse since 1996. Since 2013, she is director of Earth sciences at the International Space Sciences institute (ISSI), in Bern (Switzerland).\\nAs one of the leading scientists in the joint French/American satellite altimetry missions TOPEX/Poseidon, Jason-1, and the Ocean Surface Topography Mission, she has contributed to a greater understanding of sea level rise caused by global warming. Cazenave is a member of the Intergovernmental Panel on Climate Change and was the lead author of the sea level sections for their fourth and fifth Assessment Reports.\"},\n",
       " {'name': u'Danielle Stordeur',\n",
       "  'summary': u'Danielle Stordeur is a French Archaeologist and Directeur de Recherche at the CNRS. She is also Director of the French Ministry of Foreign Affairs permanent mission to El Kowm-Mureybet (Syria), replacing Jacques Cauvin in 1993 until 2010, when Fr\\xe9d\\xe9ric Abb\\xe8s is due to take over this position.'},\n",
       " {'name': u'Jill P. Mesirov',\n",
       "  'summary': u'Jill P. Mesirov is an American mathematician, computer scientist, and computational biologist who was the associate director and chief informatics officer at the Eli and Edythe L. Broad Institute of MIT and Harvard. She also holds an adjunct faculty position at Boston University.'},\n",
       " {'name': u'Huguette Delavault',\n",
       "  'summary': u'Huguette Delavault (15 January 1924 \\u2013 2 April 2003) was a French mathematician, specializing in mathematical physics.'},\n",
       " {'name': u'Christiane Desroches Noblecourt',\n",
       "  'summary': u'Christiane Desroches Noblecourt (French pronunciation: [k\\u0281istjan d\\u025bs\\u0281\\u0254\\u0283 n\\u0254bl\\u0259ku\\u0281] ( listen); 17 November 1913 \\u2013 23 June 2011) was a French Egyptologist. She was the author of many books on Egyptian art and history and was also known for her role in the preservation of the Nubian temples from flooding caused by the Aswan Dam.'},\n",
       " {'name': u'Anne Rudloe',\n",
       "  'summary': u'Anne Rudloe (n\\xe9e Eidemiller, December 24, 1947 \\u2013 April 27, 2012) was an American marine biologist. She was the co-founder of the Gulf Specimen Marine Laboratory in Panacea, Florida.'},\n",
       " {'name': u'Marie Crous',\n",
       "  'summary': u'Marie Crous was a French mathematician. She introduced the decimal system to France in the 17th century.'},\n",
       " {'name': u'Marie Farge',\n",
       "  'summary': u\"Marie Farge (born 1953) is a French mathematician and physicist who works as a director of research at CNRS, the French National Centre for Scientific Research. She is known for her research on wavelets and turbulence in fluid mechanics.\\nFarge earned a master's degree from Stanford University in 1977, and a third cycle doctorate in physics from Paris Diderot University in 1980. After postdoctoral studies on a Fulbright Fellowship at Harvard University, she continued her studies at Pierre and Marie Curie University, where she completed a state doctorate in 1987. She has been a researcher at CNRS since 1981. She has also held short-term positions at many other universities, including being Sofia Kovaleskaia Chair of Mathematics in 1994\\u201395 at Kaiserslautern University.\\nFarge was the 1993 winner of the Poncelet Prize of the French Academy of Sciences. She became a member of the Academia Europaea in 2005, and a fellow of the American Physical Society in 2011.\"},\n",
       " {'name': u'Marie Lebour',\n",
       "  'summary': u'Marie Victoire Lebour (August 20, 1876 \\u2013 October 2, 1971) was a British marine biologist known for her study of the life cycles of various marine animals. She published more than 175 works during her long career.'}]"
      ]
     },
     "execution_count": 75,
     "metadata": {},
     "output_type": "execute_result"
    }
   ],
   "source": [
    "return_query(vectorizer, matx, \"is a french biologist\", deduped_women)"
   ]
  },
  {
   "cell_type": "markdown",
   "metadata": {},
   "source": [
    "# Testing Spacy"
   ]
  },
  {
   "cell_type": "code",
   "execution_count": 20,
   "metadata": {},
   "outputs": [],
   "source": [
    "# doc1 = nlp(deduped_women[0]['summary'])\n",
    "# # print(doc1)\n",
    "# doc2 = nlp(deduped_women[1]['summary'])\n",
    "# # print(doc2)\n",
    "\n",
    "# arr = np.column_stack((doc1.vector,doc2.vector))\n",
    "\n",
    "# doc3 = nlp(u'is a cinematographer')\n",
    "\n",
    "\n",
    "# # print(deduped_women[0]['summary'])\n",
    "# # print(doc.vector)\n",
    "# # assert doc.vector.dtype == 'float32'\n",
    "# # len(doc.vector)\n",
    "# sim1 = np.dot(doc1.vector, doc3.vector)/(np.linalg.norm(doc1.vector)*np.linalg.norm(doc3.vector)) # cinema to query\n",
    "# sim2 = np.dot(doc2.vector, doc3.vector)/(np.linalg.norm(doc2.vector)*np.linalg.norm(doc3.vector)) # physicist to query\n",
    "\n",
    "# # print(doc1.similarity(doc3))\n",
    "# # print(doc2.similarity(doc3))\n",
    "\n",
    "# print(doc1)\n",
    "# print(sim1)\n",
    "# print()\n",
    "# print(doc2)\n",
    "# print(sim2)"
   ]
  },
  {
   "cell_type": "markdown",
   "metadata": {},
   "source": [
    "# Making our Spacy Matrix"
   ]
  },
  {
   "cell_type": "code",
   "execution_count": 32,
   "metadata": {},
   "outputs": [],
   "source": [
    "spacy_array = np.zeros((len(deduped_women),300))\n",
    "for index, woman in enumerate(deduped_women):\n",
    "#     print(index)\n",
    "    wom_vec = nlp(woman['summary']).vector\n",
    "    if len(wom_vec) != 300:\n",
    "        wom_vec = np.zeros(300)\n",
    "    spacy_array[index] = wom_vec"
   ]
  },
  {
   "cell_type": "code",
   "execution_count": 33,
   "metadata": {},
   "outputs": [],
   "source": [
    "# pickle here\n",
    "with open(\"spacyarray.pickle\", \"wb+\") as f:\n",
    "    pickle.dump(spacy_array, f)"
   ]
  },
  {
   "cell_type": "code",
   "execution_count": 34,
   "metadata": {},
   "outputs": [],
   "source": [
    "def spacy_sim(spacy_mat, query, data_dict):\n",
    "    '''\n",
    "    spacy_mat: numpy array of documents by spacy vectors\n",
    "    \n",
    "    query: query string\n",
    "    \n",
    "    RETURNS\n",
    "    \n",
    "    '''\n",
    "    q = nlp(query)\n",
    "    print(q)\n",
    "    sim_scores = np.dot(spacy_mat, q.vector)/(np.linalg.norm(spacy_mat)*np.linalg.norm(q.vector))\n",
    "    sim_docs = np.argsort(sim_scores)[::-1]\n",
    "    \n",
    "    return_docs = []\n",
    "    for hit in sim_docs[0:30]:\n",
    "        return_docs.append(data_dict[hit])\n",
    "    return return_docs"
   ]
  },
  {
   "cell_type": "code",
   "execution_count": 37,
   "metadata": {},
   "outputs": [
    {
     "name": "stdout",
     "output_type": "stream",
     "text": [
      "won the nobel prize\n"
     ]
    },
    {
     "data": {
      "text/plain": [
       "[{'name': u'Molly Shoichet',\n",
       "  'summary': u\"Molly Shoichet,  is the Province of Ontario's First Chief Scientist. She an award-winning Canadian biomedical engineer known for her work in tissue engineering. She is the only person to be a fellow of the three National Academies in Canada.\"},\n",
       " {'name': u'Priyanshi Somani',\n",
       "  'summary': u'Priyanshi Somani (born 16 November 1998) is an award winner for mental calculation. She was the youngest participant of the Mental Calculation World Cup 2010 and won the overall title. She is the only participant who has had 100% accuracy in addition, multiplication, and square root in all five Mental Calculation World Cups. Somani is the winner of \"Pogo Amazing Kids Awards 2010\" in the genius category. Her name is also in the Limca Book of World Records as well as the Guinness Book of World Records.'},\n",
       " {'name': u'Joyanti Chutia',\n",
       "  'summary': u'Joyanti Chutia is an Indian physicist. She was the among the first women who have headed scientific institutions in India when she became the Director of the Institute of Advanced Study in Science and Technology in Guwahati, Assam the first major research institution in North East India. She is a fellow of National Academy of Sciences. She is an Emeritus Scientist at the Department of Science & Technology in the Government of India'},\n",
       " {'name': u'Lisa Ng',\n",
       "  'summary': u'Lisa Ng is a virologist. In 2008, she became the first Singaporean and the first woman to win the ASEAN Young Scientist and Technologist Award.'},\n",
       " {'name': u'Ruth Lyttle Satter Prize in Mathematics',\n",
       "  'summary': u'The Ruth Lyttle Satter Prize in Mathematics, also called the Satter Prize, is one of twenty-one prizes given out by the American Mathematical Society (AMS). It is presented biennially in recognition of an outstanding contribution to mathematics research by a woman in the previous six years. The award was established in 1990 using a donation from Joan Birman, in memory of her sister, Ruth Lyttle Satter, who worked primarily in biological sciences, and was a proponent for equal opportunities for women in science. First awarded in 1991, the award is intended to \"honor [Satter\\'s] commitment to research and to encourage women in science\". The winner is selected by the council of the AMS, based on the recommendation of a selection committee. The prize is awarded at the Joint Mathematics Meetings during odd numbered years, and has always carried a modest cash reward. Since 2003, the prize has been $5,000, while from 1997 to 2001, the prize came with $1,200, and prior to that it was $4,000. If a joint award is made, the prize money is split between the recipients.\\nAs of 2017, the award has been given 14 times, to 15 different individuals. Dusa McDuff was the first recipient of the award, for her work on symplectic geometry. A joint award was made for the only time in 2001, when Karen E. Smith and Sijue Wu shared the award. The 2013 prize winner was Maryam Mirzakhani, who, in 2014, was the first woman to be awarded the Fields Medal. This is considered to be the highest honor a mathematician can receive. She won both awards for her work on \"the geometry of Riemann surfaces and their moduli spaces\". The most recent winner is Laura DeMarco, who was awarded the prize in 2017 for her \"fundamental contributions to complex dynamics, potential theory, and the emerging field of arithmetic dynamics\".\\nThe Association for Women in Science have a similarly titled award, the Ruth Satter Memorial Award, which is a cash prize of $1,000 for \"an outstanding graduate student who interrupted her education for at least 3 years to raise a family\".'},\n",
       " {'name': u'Emma Parmee',\n",
       "  'summary': u\"Emma Parmee is a British chemist and research scientist who is a co-inventor of numerous drug patents. She was one of the leading researchers in the development of sitagliptin and was awarded a Thomas Alva Edison Patent Award in 2007 and the Society of Chemical Industry's Gordon E Moore Medal in 2009 for her contributions.\"},\n",
       " {'name': u'Sherry Gong',\n",
       "  'summary': u'Sherry Gong is a graduate student in mathematics at MIT. She received her AB in Mathematics from Harvard College. She is the second U.S. woman (after Alison Miller won in 2004) to win a gold medal in the International Mathematical Olympiad, which Gong won in 2007, earning a tie for seventh place out of 536 participants (she scored a 32). She was the only woman on the U.S. team that year, and also one of only three women ever to make the U.S. team. She also tied for first place in the China Mathematical Olympiad for Girls in 2007. Gong attended a mathematics Olympiad for the first time when she was in the sixth grade \\u2014 the 3rd Olympiada Matematica de Centroamerica y el Caribe, in Colombia. There she received a silver medal and also a special award for the most original solution. It was the first such award in the history of that Olympiad.\\nGong participated in IMO five times, winning HM in 2002, bronze in 2003, silver in 2004 and 2005 and gold in 2007. In 2005 she was named the 2005 Clay Olympiad Scholar; the Clay Olympiad Scholar Award recognizes the most original solution to a problem on the US American Mathematics Olympiad (USAMO). In 2006 she earned a silver medal at the 2006 International Physics Olympiad. She was a winner (top twelve) at the United States of America Mathematical Olympiad in 2005, 2006, and 2007, including placing 2nd in 2007.\\nAs a Harvard freshman, Gong scored over 100 in Harvard\\u2019s famous problem solving course, Math 55, which required perfect scores on all assignments, tests, bonus problems, and the final exam. In 2010 Gong helped coach the U.S. team that competed in the China Girls\\u2019 Mathematical Olympiad; five team members won gold medals. In 2011 she won the Alice T. Schafer Prize for Excellence in Mathematics by an Undergraduate Woman.\\nSherry Gong was born in New York City as the daughter of two mathematics professors; she grew up in Toronto, Puerto Rico, and New Hampshire. Her father is Professor Guihua Gong, and her mother is Professor Liangqing Li. They both work at the University of Puerto Rico. Her parents currently have no access to electrical power.'},\n",
       " {'name': u'Edith Irby Jones',\n",
       "  'summary': u\"Edith Irby Jones (born December 23, 1927) is an American physician who was the first African American to be accepted as a non-segregated student at the University of Arkansas Medical School and the first black student to attend racially mixed classes in the American South. She was the first African American to graduate from a southern medical school, first black intern in the state of Arkansas, and later first black intern at Baylor College of Medicine. Jones was the first woman president of the National Medical Association. She has been honored by many awards, including induction into both the University of Arkansas College of Medicine Hall of Fame and the inaugural group of women inducted into the Arkansas Women's Hall of Fame.\"},\n",
       " {'name': u'Lee Ann Newsom',\n",
       "  'summary': u'Lee Ann Newsom is an Associate Professor of Anthropology at the Pennsylvania State University at University Park. She has written numerous books and articles. She was awarded a MacArthur Fellowship in 2002.'},\n",
       " {'name': u'Mayly S\\xe1nchez',\n",
       "  'summary': u'Mayly S\\xe1nchez is a Venezuelan-born particle physicist who researches at Iowa State University. In 2011, she was awarded the Presidential Early Career Awards for Scientists and Engineers (PECASE), the highest honor given by the United States to beginning scientists, who are in the early stages of their research careers. In 2013, she was named by the BBC as one of the top ten women scientists in Latin America.'},\n",
       " {'name': u'Shirley Ann Jackson',\n",
       "  'summary': u'Shirley Ann Jackson FREng (born August 5, 1946) is an American physicist, and the eighteenth president of Rensselaer Polytechnic Institute. She is the first African-American woman to have earned a doctorate at the Massachusetts Institute of Technology (MIT). She is also the second African-American woman in the United States to earn a doctorate in physics, and the first to be awarded the National Medal of Science.'},\n",
       " {'name': u'Tebello Nyokong',\n",
       "  'summary': u\"Tebello Nyokong (born October 20, 1951) is a South African chemist and professor at Rhodes University, and a recipient of the Presidency of South Africa's Order of Mapungubwe in Bronze. She was awarded the South African Chemical Institute Gold Medal in 2012, and named one of the top 10 most influential women in science and technology in Africa by IT News Africa. She is currently researching photo-dynamic therapy, an alternative cancer treatment method to chemotherapy. In 2007, she was one of the top three publishing scientists in South Africa, and in 2013 she was awarded the National Research Foundation's Lifetime Achievement Award.\"},\n",
       " {'name': u'Deborah Frank Lockhart',\n",
       "  'summary': u'Deborah Frank Lockhart is a mathematician known for her work with the National Science Foundation.'},\n",
       " {'name': u'Lisa Kewley',\n",
       "  'summary': u'Lisa Jennifer Kewley (born 1974) is a Professor and Associate Director at the Research School for Astronomy & Astrophysics at the Australian National University College of Physical and Mathematical Sciences. Specialising in galaxy evolution, she won the Annie Jump Cannon Award in Astronomy in 2005 for her studies of oxygen in galaxies, and the Newton Lacy Pierce Prize in Astronomy in 2008. In 2014 she was elected a fellow of the Australian Academy of Science.'},\n",
       " {'name': u'Sujatha Ramdorai',\n",
       "  'summary': u'Sujatha Ramdorai is a professor of mathematics and Canada Research Chair at University of British Columbia, Canada. Previously a professor at Tata Institute of Fundamental Research, Ramdorai is an algebraic number theorist known for her work on Iwasawa theory. She is the first Indian to win the prestigious ICTP Ramanujan Prize in 2006 and also a winner of the Shanti Swarup Bhatnagar Award, the highest honour in scientific fields by Indian Government in 2004. She was a member of the National Knowledge Commission from 2007 to 2009. She is at present a member of the Prime Minister\\u2019s Scientific Advisory Council from 2009 onwards and also a member of the National Innovation Council. She is also on the advisory board of Gonit Sora. She holds an adjunct professorship position at Indian Institute of Science Education and Research, Pune.'},\n",
       " {'name': u'Sophie Morel',\n",
       "  'summary': u'Sophie Morel (born 1979) is a French mathematician, specializing in number theory. She is a professor of mathematics at Princeton University. In 2012 she received one of the ten prizes of the European Mathematical Society.\\n\\n'},\n",
       " {'name': u'Ada Yonath',\n",
       "  'summary': u'Ada E. Yonath (Hebrew: \\u05e2\\u05d3\\u05d4 \\u05d9\\u05d5\\u05e0\\u05ea\\u200e, pronounced [\\u02c8ada jo\\u02c8nat]) (born 22 June 1939) is an Israeli crystallographer best known for her pioneering work on the structure of the ribosome. She is the current director of the Helen and Milton A. Kimmelman Center for Biomolecular Structure and Assembly of the Weizmann Institute of Science.\\nIn 2009, she received the Nobel Prize in Chemistry along with Venkatraman Ramakrishnan and Thomas A. Steitz for her studies on the structure and function of the ribosome, becoming the first Israeli woman to win the Nobel Prize out of ten Israeli Nobel laureates, the first woman from the Middle East to win a Nobel prize in the sciences, and the first woman in 45 years to win the Nobel Prize for Chemistry.'},\n",
       " {'name': u'Leith Mullings',\n",
       "  'summary': u'Leith Mullings is an author, anthropologist and professor. She was president of the American Anthropological Association from 2011\\u20132013, and is a Distinguished Professor of Anthropology at the Graduate Center of the City University of New York. Mullings has been involved in organizing for progressive social justice, racial equality and economic justice as one of the founding members of the Black Radical Congress and in her role as President of the AAA. Under her leadership, the American Anthropological Association took up the issue of academic labor rights.\\nHer research and writing have focused on structures of inequality and resistance to them. Her research began in Africa and she has written about traditional medicine and religion in postcolonial Ghana, as well as about women\\u2019s roles in Africa. In the U.S. her work has centered on urban communities. She was recognized for this work by the Society for the Anthropology of North America, which awarded her the Prize for Distinguished Achievement in the Critical Study of North America in 1997. Mullings is currently working on an ethnohistory of the African Burial Ground in New York City.'},\n",
       " {'name': u'Nalini Anantharaman',\n",
       "  'summary': u'Professor Nalini Anantharaman (born 26 February 1976) is a French mathematician who has won major prizes including the Henri Poincar\\xe9 Prize in 2012.'},\n",
       " {'name': u'Ragni Piene',\n",
       "  'summary': u'Ragni Piene (born 18 January 1947, Oslo) is a Norwegian mathematician.\\nHer research is within the field of algebraic geometry. She took her doctorate at the Massachusetts Institute of Technology in 1976 and was appointed professor at the University of Oslo in 1987. She is a member of the Norwegian Academy of Science and Letters. Since 2003 she has been a member of the executive committee of the International Mathematical Union. She was the chair of the Abel Committee from 2010/2011 to 2013/2014. In 2012 she became a fellow of the American Mathematical Society.'},\n",
       " {'name': u'Catherine S. Fowler',\n",
       "  'summary': u'Catherine \"Kay\" S. Fowler is an anthropologist whose work has focused on preserving the cultures of the native people of the Great Basin. She earned her PhD from the University of Pittsburgh, and from 1964 to 2007 taught at the University of Nevada, Reno, where she is now Professor Emerita.\\nFowler is a research associate for the Nevada State Museum and the Smithsonian National Museum of Natural History where she has participated in the Council for the Preservation of Anthropological Records, and she has served as president of the Society of Ethnobiology. In 1995 she was named Outstanding Researcher of the Year at the University of Nevada, Reno. In 2011, she was elected to the National Academy of Sciences  and the American Academy of Arts and Sciences.'},\n",
       " {'name': u'Chrystal Macmillan',\n",
       "  'summary': u\"Jessie Chrystal Macmillan MA BSc (13 June 1872 \\u2013 21 September 1937) was a Scottish Liberal politician, barrister, feminist and pacifist, and the first female science graduate from the University of Edinburgh as well as that institution's first female honours graduate in Mathematics. She was an activist for women's right to vote, and for other women's causes. She was the first woman to plead a case before the House of Lords, and was one of the founders of the Women's International League for Peace and Freedom.\\nIn the first year of World War I, Macmillan spoke for the peace-seeking women of the United Kingdom at the International Congress of Women, a peace congress convened at The Hague. Afterward, she met with world leaders such as President Woodrow Wilson, whose countries were still neutral, to present the proposals formulated at The Hague. Wilson subsequently used these proposals as some of his Fourteen Points, his justification for making war to forge a lasting peace. At war's end, Macmillan served as a delegate at the Paris Peace Conference, 1919, and helped encourage the founding of the League of Nations. Macmillan tried but did not succeed in getting the League to establish nationality for women independent of the nationality of their husbands.\"},\n",
       " {'name': u'Margaret R. Fox',\n",
       "  'summary': u'Margaret R. Fox was an American electronics engineer and computer scientist born in 1916. She was the Chief of the Office of Computer Information, part of the Institute for Computer Science and Technology of the National Bureau of Standards (now the National Institute of Standards and Technology) from 1966 to 1975 and was the first secretary of the American Federation of Information Processing Societies.'},\n",
       " {'name': u'Gloria Lim',\n",
       "  'summary': u\"Gloria Lim BBM (born 1930) is a retired Singaporean mycologist whose research focused on tropical fungi and who built up a fungal repository of regional samples. Lim was twice appointed as Dean of the Faculty of Science at the University of Singapore (now the National University of Singapore), the first woman to hold that position. After her retirement, she became the first Director of Singapore's National Institute of Education and helped it launch a university degree program. She served on the Public Service Commission as its first woman commissioner for 14 years, and then served as general manager of the Community Mediation Unit for 8 years. She has received numerous honours and awards for her contributions to science and to improving education in Singapore.\"},\n",
       " {'name': u'Una Ryan',\n",
       "  'summary': u\"Una Ryan (born December 18, 1941) is a British-American biologist who has conducted research on vascular biology, publishing over 300 papers. After an extended research and academic career she began a career in the biotech industry. She was Director for Health Sciences of Monsanto Company; CEO, president and director of AVANT Immunotherapeutics; and is currently the Chairman of The Bay Area BioEconomy Initiative, among many other associations. She is an angel investor and focuses her funds on women-led companies. She has won numerous awards and recognition during her career including the National Institute of Health's 10-year merit award, Order of the British Empire and the Albert Einstein Award.\"},\n",
       " {'name': u'Emer Jones',\n",
       "  'summary': u'Emer Jones (born 1994) is an Irish student from Tralee, County Kerry. She was the winner of the 44th Young Scientist and Technology Exhibition in 2008 at the age of thirteen. becoming the competition\\'s youngest ever winner at that time. She was also the first winner from County Kerry and won in the year her school first entered the competition.\\nJones is a former student of Presentation School in Tralee. Her father, John, is an engineering lecturer at the Institute of Technology, Tralee (ITT) and her mother is a schoolteacher at the local primary school. She has been interested in science from a very young age, once asking for several science books from Santa Claus as a child. Her project at the exhibition was titled \"Research and Development of Emergency Sandbag Shelters\". Her intention was to examine how stable the materials used to make these sandbags actually were. She based her research on the sandbag shelter created by the Cal-Earth Institute\\'s Nader Khalili. She was also encouraged by the scale of recent natural disasters, claiming to want to help humanity with her research. Jones\\'s \"practical application\" was praised by judges.\\nJones won the Young Scientist and Technology Exhibition at the RDS, Dublin on 11 January 2008. The announcement was made at an evening ceremony in the exhibition hall. Her prize was a \\u20ac5,000 cheque and a trophy of Waterford Crystal. Jones was presented with the award by Minister for Education and Science Mary Hanafin. Her seven-year-old brother, Robert, was also present. She returned to school the following Monday where a celebration was held marking her achievement. Her town honoured her two months later by making her Grand Marshal of the 2008 Saint Patrick\\'s Day parade in Tralee.\\nShe went on to represent Ireland at the 20th European Union Contest for Young Scientists in Copenhagen, Denmark in September 2008. Jones returned to the Young Scientist and Technology Exhibition at its launch in 2009 to be introduced on stage by Ray D\\'Arcy and Aoibhinn N\\xed Sh\\xfailleabh\\xe1in before President of Ireland Mary McAleese made an appearance.\\nShe would like to study chemistry, mathematics and physics and work in science.'},\n",
       " {'name': u'Lisa Sauermann',\n",
       "  'summary': u'Lisa Sauermann (born 25 September 1992) is a mathematics student from Germany who became the most successful participant in the International Mathematical Olympiad in 2011. As of January 2018, she is ranked No.3 in the International Mathematical Olympiad Hall of Fame, having won four gold medals (2008\\u20132011) and one silver medal (2007) at this event. In all of those occasions she represented Germany. She was the only student to achieve a perfect score at IMO 2011.\\nSauermann attended Martin-Andersen-Nex\\xf6-Gymnasium Dresden when she was in 12th grade. She won the Franz Ludwig Gehe Prize in 2011 and the gold medal in the age group III, the 11th\\u201312th grade competition. As a result, she won a trip to the Royal Academy of Sciences in Stockholm. To achieve this, she presented a new mathematical theorem with a proof in a work entitled \"Forests with Hypergraphs\". In 2011 she began studying mathematics at the University of Bonn. She is a graduate student of Jacob Fox at Stanford University.\\nHer sister, Anne, two years her junior, was a successful participant in math and science Olympiads at the national level.'},\n",
       " {'name': u'Ana V\\xe1squez-Bronfman',\n",
       "  'summary': u\"Ana V\\xe1squez-Bronfman (18 December 1931-18 November 2009) was a Chilean Jewish sociologist and writer. Exiled from the country during the dictatorship in 1973, she relocated to Paris, where she worked as a professor and researcher at the National Center for Scientific Research. Much of her literary work centered on the cultural heritage of Jews in predominantly Catholic Latin America, the effects of military dictatorship on human rights and racial prejudices and exile. Her research evaluated the psycho-sociology of children and women's sexuality. She won a National Book prize in Chile for her fiction and a bronze medal from the French National Center for Scientific Research for her scholarship.\"},\n",
       " {'name': u'T. Christine Stevens',\n",
       "  'summary': u'Terrie Christine \"Chris\" Stevens is an American mathematician whose research concerns topological groups, the history of mathematics, and mathematics education. She is also known as the co-founder of Project NExT, a mentorship program for recent doctorates in mathematics, which she directed from 1994 until 2009.\\nStevens graduated from Smith College in 1970, and completed her doctorate in 1978 at Harvard University under the supervision of Andrew M. Gleason. She held teaching positions at the University of Massachusetts Lowell, at Mount Holyoke College and at Arkansas State University before joining Saint Louis University, where for 25 years she was a professor of mathematics and computer science. She was also a Congressional Science Fellow assisting congressman Theodore S. Weiss in 1984\\u20131985, and was a program officer at the National Science Foundation in 1987\\u20131989. After retiring from SLU, she became Associate Executive Director for Meetings and Professional Services of the American Mathematical Society.\\nIn 2004 Stevens won the Gung and Hu Award for Distinguished Service to Mathematics of the Mathematical Association of America for her work on Project NExT. In 2010 Stevens was awarded the Smith College Medal by her alma mater. She has been a fellow of the American Association for the Advancement of Science since 2005, and in 2012, she became one of the inaugural fellows of the American Mathematical Society. She was the 2015 winner of the Louise Hay Award of the Association for Women in Mathematics.'},\n",
       " {'name': u'Emily Riehl',\n",
       "  'summary': u'Emily Riehl is an American mathematician who has contributed to higher category theory and homotopy theory. Much of her work, including her PhD thesis, concerns model structures. She is notable for her early career accomplishments. She is the author of two textbooks and serves on the editorial boards of three journals.'}]"
      ]
     },
     "execution_count": 37,
     "metadata": {},
     "output_type": "execute_result"
    }
   ],
   "source": [
    "pkl_file_spacy = open('spacyarray.pickle', 'rb')\n",
    "spacy_array = pickle.load(pkl_file_spacy)\n",
    "\n",
    "spacy_sim(spacy_array, \"won the nobel prize\", deduped_women)"
   ]
  },
  {
   "cell_type": "code",
   "execution_count": null,
   "metadata": {},
   "outputs": [],
   "source": []
  }
 ],
 "metadata": {
  "kernelspec": {
   "display_name": "Python 2",
   "language": "python",
   "name": "python2"
  },
  "language_info": {
   "codemirror_mode": {
    "name": "ipython",
    "version": 2
   },
   "file_extension": ".py",
   "mimetype": "text/x-python",
   "name": "python",
   "nbconvert_exporter": "python",
   "pygments_lexer": "ipython2",
   "version": "2.7.14"
  }
 },
 "nbformat": 4,
 "nbformat_minor": 2
}
